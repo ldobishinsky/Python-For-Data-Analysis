{
  "nbformat": 4,
  "nbformat_minor": 0,
  "metadata": {
    "kernelspec": {
      "display_name": "Python 3",
      "language": "python",
      "name": "python3"
    },
    "language_info": {
      "codemirror_mode": {
        "name": "ipython",
        "version": 3
      },
      "file_extension": ".py",
      "mimetype": "text/x-python",
      "name": "python",
      "nbconvert_exporter": "python",
      "pygments_lexer": "ipython3",
      "version": "3.7.6"
    },
    "colab": {
      "name": "Copy of Introduction to Pandas Exercise.ipynb",
      "provenance": [],
      "collapsed_sections": [],
      "include_colab_link": true
    }
  },
  "cells": [
    {
      "cell_type": "markdown",
      "metadata": {
        "id": "view-in-github",
        "colab_type": "text"
      },
      "source": [
        "<a href=\"https://colab.research.google.com/github/ldobishinsky/Python-For-Data-Analysis/blob/master/Copy_of_Introduction_to_Pandas_Exercise.ipynb\" target=\"_parent\"><img src=\"https://colab.research.google.com/assets/colab-badge.svg\" alt=\"Open In Colab\"/></a>"
      ]
    },
    {
      "cell_type": "markdown",
      "metadata": {
        "id": "myBmHQDV2hTr",
        "colab_type": "text"
      },
      "source": [
        "# Module 4 Exercise - Core Pandas Concepts"
      ]
    },
    {
      "cell_type": "markdown",
      "metadata": {
        "id": "CiI0rpWO2hTu",
        "colab_type": "text"
      },
      "source": [
        "### Prelude - Importing Libraries\n",
        "Typically, it's best practice to import all of the packages (aka libraries) that you will need for a notebook/script/project right at the beginning.  For almost all data-related projects, you will start by importing numpy (numerical Python) and Pandas.  Its traditional to abbrieviate these two libraries as np and pd respectively, using the 'as' keyword.\n",
        "\n",
        "**In the below cell, import numpy and pandas as np and pd respectively**"
      ]
    },
    {
      "cell_type": "code",
      "metadata": {
        "id": "vO11aJtX2hTw",
        "colab_type": "code",
        "colab": {}
      },
      "source": [
        "import numpy as np\n",
        "import pandas as pd"
      ],
      "execution_count": 0,
      "outputs": []
    },
    {
      "cell_type": "markdown",
      "metadata": {
        "id": "Mq5OqW0m2hT-",
        "colab_type": "text"
      },
      "source": [
        "### Part 1:  Reading Data\n",
        "\n",
        "In the below section, you will read and write data to/from pandas dataframes.  The files you will be reading from have the same data, but slightly different quirks that will necessitate slightly different approaches to reading the data.  Feel free to open the files in Excel to see what these quirks might be, and, as always, use Google to seek resources."
      ]
    },
    {
      "cell_type": "markdown",
      "metadata": {
        "id": "rWgytWpr2hUA",
        "colab_type": "text"
      },
      "source": [
        "**1a.**  Read the file https://github.com/Robmattles/Python-For-Data-Analysis/raw/master/Data%20Files/enronEnriched.csv from the Module 4 folder into a pandas dataframe "
      ]
    },
    {
      "cell_type": "code",
      "metadata": {
        "id": "uNbfHuA52hUB",
        "colab_type": "code",
        "colab": {
          "base_uri": "https://localhost:8080/",
          "height": 504
        },
        "outputId": "bae756be-400b-477c-e691-7c60911008ef"
      },
      "source": [
        "df=pd.read_csv(r'https://github.com/Robmattles/Python-For-Data-Analysis/raw/master/Data%20Files/enronEnriched.csv')\n",
        "df.head()"
      ],
      "execution_count": 5,
      "outputs": [
        {
          "output_type": "execute_result",
          "data": {
            "text/html": [
              "<div>\n",
              "<style scoped>\n",
              "    .dataframe tbody tr th:only-of-type {\n",
              "        vertical-align: middle;\n",
              "    }\n",
              "\n",
              "    .dataframe tbody tr th {\n",
              "        vertical-align: top;\n",
              "    }\n",
              "\n",
              "    .dataframe thead th {\n",
              "        text-align: right;\n",
              "    }\n",
              "</style>\n",
              "<table border=\"1\" class=\"dataframe\">\n",
              "  <thead>\n",
              "    <tr style=\"text-align: right;\">\n",
              "      <th></th>\n",
              "      <th>Unnamed: 0</th>\n",
              "      <th>Unnamed: 0.1</th>\n",
              "      <th>Message-ID</th>\n",
              "      <th>Date</th>\n",
              "      <th>From</th>\n",
              "      <th>To</th>\n",
              "      <th>Subject</th>\n",
              "      <th>X-From</th>\n",
              "      <th>X-To</th>\n",
              "      <th>X-cc</th>\n",
              "      <th>X-bcc</th>\n",
              "      <th>X-Folder</th>\n",
              "      <th>X-Origin</th>\n",
              "      <th>X-FileName</th>\n",
              "      <th>content</th>\n",
              "      <th>user</th>\n",
              "      <th>Cat_1_level_1</th>\n",
              "      <th>Cat_1_level_2</th>\n",
              "      <th>Cat_1_weight</th>\n",
              "      <th>Cat_2_level_1</th>\n",
              "      <th>Cat_2_level_2</th>\n",
              "      <th>Cat_2_weight</th>\n",
              "      <th>Cat_3_level_1</th>\n",
              "      <th>Cat_3_level_2</th>\n",
              "      <th>Cat_3_weight</th>\n",
              "      <th>Cat_4_level_1</th>\n",
              "      <th>Cat_4_level_2</th>\n",
              "      <th>Cat_4_weight</th>\n",
              "      <th>Cat_5_level_1</th>\n",
              "      <th>Cat_5_level_2</th>\n",
              "      <th>Cat_5_weight</th>\n",
              "      <th>Cat_6_level_1</th>\n",
              "      <th>Cat_6_level_2</th>\n",
              "      <th>Cat_6_weight</th>\n",
              "      <th>Cat_7_level_1</th>\n",
              "      <th>Cat_7_level_2</th>\n",
              "      <th>Cat_7_weight</th>\n",
              "      <th>Cat_8_level_1</th>\n",
              "      <th>Cat_8_level_2</th>\n",
              "      <th>Cat_8_weight</th>\n",
              "      <th>Cat_9_level_1</th>\n",
              "      <th>Cat_9_level_2</th>\n",
              "      <th>Cat_9_weight</th>\n",
              "      <th>Cat_10_level_1</th>\n",
              "      <th>Cat_10_level_2</th>\n",
              "      <th>Cat_10_weight</th>\n",
              "      <th>Cat_11_level_1</th>\n",
              "      <th>Cat_11_level_2</th>\n",
              "      <th>Cat_11_weight</th>\n",
              "      <th>Cat_12_level_1</th>\n",
              "      <th>Cat_12_level_2</th>\n",
              "      <th>Cat_12_weight</th>\n",
              "      <th>labeled</th>\n",
              "      <th>dollarValueMentionedinMessage</th>\n",
              "      <th>messageLength</th>\n",
              "    </tr>\n",
              "  </thead>\n",
              "  <tbody>\n",
              "    <tr>\n",
              "      <th>0</th>\n",
              "      <td>0</td>\n",
              "      <td>500000</td>\n",
              "      <td>&lt;30866805.1075852350908.JavaMail.evans@thyme&gt;</td>\n",
              "      <td>2001-07-13 19:47:20</td>\n",
              "      <td>frozenset({'donna.fulton@enron.com'})</td>\n",
              "      <td>frozenset({'david.fairley@enron.com', 'matt.lo...</td>\n",
              "      <td>RTO Orders - Grid South, SE Trans, SPP and Ent...</td>\n",
              "      <td>Fulton, Donna &lt;/O=ENRON/OU=NA/CN=RECIPIENTS/CN...</td>\n",
              "      <td>Kean, Steven &lt;/O=ENRON/OU=NA/CN=RECIPIENTS/CN=...</td>\n",
              "      <td>NaN</td>\n",
              "      <td>NaN</td>\n",
              "      <td>\\GWHALLE (Non-Privileged)\\Markets</td>\n",
              "      <td>WHALLEY-G</td>\n",
              "      <td>GWHALLE (Non-Privileged).pst</td>\n",
              "      <td>The Southeast RTO orders are out and have foll...</td>\n",
              "      <td>whalley-g</td>\n",
              "      <td>NaN</td>\n",
              "      <td>NaN</td>\n",
              "      <td>NaN</td>\n",
              "      <td>NaN</td>\n",
              "      <td>NaN</td>\n",
              "      <td>NaN</td>\n",
              "      <td>NaN</td>\n",
              "      <td>NaN</td>\n",
              "      <td>NaN</td>\n",
              "      <td>NaN</td>\n",
              "      <td>NaN</td>\n",
              "      <td>NaN</td>\n",
              "      <td>NaN</td>\n",
              "      <td>NaN</td>\n",
              "      <td>NaN</td>\n",
              "      <td>NaN</td>\n",
              "      <td>NaN</td>\n",
              "      <td>NaN</td>\n",
              "      <td>NaN</td>\n",
              "      <td>NaN</td>\n",
              "      <td>NaN</td>\n",
              "      <td>NaN</td>\n",
              "      <td>NaN</td>\n",
              "      <td>NaN</td>\n",
              "      <td>NaN</td>\n",
              "      <td>NaN</td>\n",
              "      <td>NaN</td>\n",
              "      <td>NaN</td>\n",
              "      <td>NaN</td>\n",
              "      <td>NaN</td>\n",
              "      <td>NaN</td>\n",
              "      <td>NaN</td>\n",
              "      <td>NaN</td>\n",
              "      <td>NaN</td>\n",
              "      <td>NaN</td>\n",
              "      <td>NaN</td>\n",
              "      <td>False</td>\n",
              "      <td>NaN</td>\n",
              "      <td>2570</td>\n",
              "    </tr>\n",
              "    <tr>\n",
              "      <th>1</th>\n",
              "      <td>1</td>\n",
              "      <td>500001</td>\n",
              "      <td>&lt;26879196.1075852350962.JavaMail.evans@thyme&gt;</td>\n",
              "      <td>2001-07-12 11:36:58</td>\n",
              "      <td>frozenset({'david.delainey@enron.com'})</td>\n",
              "      <td>frozenset({'john.greg@enron.com', 'jeff.skilli...</td>\n",
              "      <td>More UC/CSU Info</td>\n",
              "      <td>Delainey, David &lt;/O=ENRON/OU=NA/CN=RECIPIENTS/...</td>\n",
              "      <td>Greg Whalley/HOU/ECT@ENRON, Lavorato, John &lt;/O...</td>\n",
              "      <td>NaN</td>\n",
              "      <td>NaN</td>\n",
              "      <td>\\GWHALLE (Non-Privileged)\\Markets</td>\n",
              "      <td>WHALLEY-G</td>\n",
              "      <td>GWHALLE (Non-Privileged).pst</td>\n",
              "      <td>---------------------- Forwarded by David W De...</td>\n",
              "      <td>whalley-g</td>\n",
              "      <td>NaN</td>\n",
              "      <td>NaN</td>\n",
              "      <td>NaN</td>\n",
              "      <td>NaN</td>\n",
              "      <td>NaN</td>\n",
              "      <td>NaN</td>\n",
              "      <td>NaN</td>\n",
              "      <td>NaN</td>\n",
              "      <td>NaN</td>\n",
              "      <td>NaN</td>\n",
              "      <td>NaN</td>\n",
              "      <td>NaN</td>\n",
              "      <td>NaN</td>\n",
              "      <td>NaN</td>\n",
              "      <td>NaN</td>\n",
              "      <td>NaN</td>\n",
              "      <td>NaN</td>\n",
              "      <td>NaN</td>\n",
              "      <td>NaN</td>\n",
              "      <td>NaN</td>\n",
              "      <td>NaN</td>\n",
              "      <td>NaN</td>\n",
              "      <td>NaN</td>\n",
              "      <td>NaN</td>\n",
              "      <td>NaN</td>\n",
              "      <td>NaN</td>\n",
              "      <td>NaN</td>\n",
              "      <td>NaN</td>\n",
              "      <td>NaN</td>\n",
              "      <td>NaN</td>\n",
              "      <td>NaN</td>\n",
              "      <td>NaN</td>\n",
              "      <td>NaN</td>\n",
              "      <td>NaN</td>\n",
              "      <td>NaN</td>\n",
              "      <td>NaN</td>\n",
              "      <td>False</td>\n",
              "      <td>NaN</td>\n",
              "      <td>3761</td>\n",
              "    </tr>\n",
              "    <tr>\n",
              "      <th>2</th>\n",
              "      <td>2</td>\n",
              "      <td>500002</td>\n",
              "      <td>&lt;15339082.1075852350988.JavaMail.evans@thyme&gt;</td>\n",
              "      <td>2001-07-10 00:47:51</td>\n",
              "      <td>frozenset({'jeff.dasovich@enron.com'})</td>\n",
              "      <td>frozenset({'linda.robertson@enron.com', 'harry...</td>\n",
              "      <td>California Update 07.09.01</td>\n",
              "      <td>Dasovich, Jeff &lt;/O=ENRON/OU=NA/CN=RECIPIENTS/C...</td>\n",
              "      <td>skean@enron.com, Shapiro, Richard &lt;/O=ENRON/OU...</td>\n",
              "      <td>NaN</td>\n",
              "      <td>NaN</td>\n",
              "      <td>\\GWHALLE (Non-Privileged)\\Markets</td>\n",
              "      <td>WHALLEY-G</td>\n",
              "      <td>GWHALLE (Non-Privileged).pst</td>\n",
              "      <td>The Bond Legislation The Democrats in the Asse...</td>\n",
              "      <td>whalley-g</td>\n",
              "      <td>NaN</td>\n",
              "      <td>NaN</td>\n",
              "      <td>NaN</td>\n",
              "      <td>NaN</td>\n",
              "      <td>NaN</td>\n",
              "      <td>NaN</td>\n",
              "      <td>NaN</td>\n",
              "      <td>NaN</td>\n",
              "      <td>NaN</td>\n",
              "      <td>NaN</td>\n",
              "      <td>NaN</td>\n",
              "      <td>NaN</td>\n",
              "      <td>NaN</td>\n",
              "      <td>NaN</td>\n",
              "      <td>NaN</td>\n",
              "      <td>NaN</td>\n",
              "      <td>NaN</td>\n",
              "      <td>NaN</td>\n",
              "      <td>NaN</td>\n",
              "      <td>NaN</td>\n",
              "      <td>NaN</td>\n",
              "      <td>NaN</td>\n",
              "      <td>NaN</td>\n",
              "      <td>NaN</td>\n",
              "      <td>NaN</td>\n",
              "      <td>NaN</td>\n",
              "      <td>NaN</td>\n",
              "      <td>NaN</td>\n",
              "      <td>NaN</td>\n",
              "      <td>NaN</td>\n",
              "      <td>NaN</td>\n",
              "      <td>NaN</td>\n",
              "      <td>NaN</td>\n",
              "      <td>NaN</td>\n",
              "      <td>NaN</td>\n",
              "      <td>NaN</td>\n",
              "      <td>False</td>\n",
              "      <td>NaN</td>\n",
              "      <td>1348</td>\n",
              "    </tr>\n",
              "    <tr>\n",
              "      <th>3</th>\n",
              "      <td>3</td>\n",
              "      <td>500003</td>\n",
              "      <td>&lt;5265469.1075852351013.JavaMail.evans@thyme&gt;</td>\n",
              "      <td>2001-07-06 20:45:05</td>\n",
              "      <td>frozenset({'richard.shapiro@enron.com'})</td>\n",
              "      <td>frozenset({'greg.whalley@enron.com', 'john.lav...</td>\n",
              "      <td>Davis &amp; Company -- incompetence personified</td>\n",
              "      <td>Shapiro, Richard &lt;/O=ENRON/OU=NA/CN=RECIPIENTS...</td>\n",
              "      <td>Lavorato, John &lt;/O=ENRON/OU=NA/CN=RECIPIENTS/C...</td>\n",
              "      <td>NaN</td>\n",
              "      <td>NaN</td>\n",
              "      <td>\\GWHALLE (Non-Privileged)\\Markets</td>\n",
              "      <td>WHALLEY-G</td>\n",
              "      <td>GWHALLE (Non-Privileged).pst</td>\n",
              "      <td>FYI ---------------------- Forwarded by Richar...</td>\n",
              "      <td>whalley-g</td>\n",
              "      <td>NaN</td>\n",
              "      <td>NaN</td>\n",
              "      <td>NaN</td>\n",
              "      <td>NaN</td>\n",
              "      <td>NaN</td>\n",
              "      <td>NaN</td>\n",
              "      <td>NaN</td>\n",
              "      <td>NaN</td>\n",
              "      <td>NaN</td>\n",
              "      <td>NaN</td>\n",
              "      <td>NaN</td>\n",
              "      <td>NaN</td>\n",
              "      <td>NaN</td>\n",
              "      <td>NaN</td>\n",
              "      <td>NaN</td>\n",
              "      <td>NaN</td>\n",
              "      <td>NaN</td>\n",
              "      <td>NaN</td>\n",
              "      <td>NaN</td>\n",
              "      <td>NaN</td>\n",
              "      <td>NaN</td>\n",
              "      <td>NaN</td>\n",
              "      <td>NaN</td>\n",
              "      <td>NaN</td>\n",
              "      <td>NaN</td>\n",
              "      <td>NaN</td>\n",
              "      <td>NaN</td>\n",
              "      <td>NaN</td>\n",
              "      <td>NaN</td>\n",
              "      <td>NaN</td>\n",
              "      <td>NaN</td>\n",
              "      <td>NaN</td>\n",
              "      <td>NaN</td>\n",
              "      <td>NaN</td>\n",
              "      <td>NaN</td>\n",
              "      <td>NaN</td>\n",
              "      <td>False</td>\n",
              "      <td>37.0</td>\n",
              "      <td>2592</td>\n",
              "    </tr>\n",
              "    <tr>\n",
              "      <th>4</th>\n",
              "      <td>4</td>\n",
              "      <td>500004</td>\n",
              "      <td>&lt;13706905.1075852351066.JavaMail.evans@thyme&gt;</td>\n",
              "      <td>2001-07-06 20:44:33</td>\n",
              "      <td>frozenset({'richard.shapiro@enron.com'})</td>\n",
              "      <td>frozenset({'greg.whalley@enron.com', 'john.lav...</td>\n",
              "      <td>Link to DWR contract info</td>\n",
              "      <td>Shapiro, Richard &lt;/O=ENRON/OU=NA/CN=RECIPIENTS...</td>\n",
              "      <td>Lavorato, John &lt;/O=ENRON/OU=NA/CN=RECIPIENTS/C...</td>\n",
              "      <td>NaN</td>\n",
              "      <td>NaN</td>\n",
              "      <td>\\GWHALLE (Non-Privileged)\\Markets</td>\n",
              "      <td>WHALLEY-G</td>\n",
              "      <td>GWHALLE (Non-Privileged).pst</td>\n",
              "      <td>FYI ---------------------- Forwarded by Richar...</td>\n",
              "      <td>whalley-g</td>\n",
              "      <td>NaN</td>\n",
              "      <td>NaN</td>\n",
              "      <td>NaN</td>\n",
              "      <td>NaN</td>\n",
              "      <td>NaN</td>\n",
              "      <td>NaN</td>\n",
              "      <td>NaN</td>\n",
              "      <td>NaN</td>\n",
              "      <td>NaN</td>\n",
              "      <td>NaN</td>\n",
              "      <td>NaN</td>\n",
              "      <td>NaN</td>\n",
              "      <td>NaN</td>\n",
              "      <td>NaN</td>\n",
              "      <td>NaN</td>\n",
              "      <td>NaN</td>\n",
              "      <td>NaN</td>\n",
              "      <td>NaN</td>\n",
              "      <td>NaN</td>\n",
              "      <td>NaN</td>\n",
              "      <td>NaN</td>\n",
              "      <td>NaN</td>\n",
              "      <td>NaN</td>\n",
              "      <td>NaN</td>\n",
              "      <td>NaN</td>\n",
              "      <td>NaN</td>\n",
              "      <td>NaN</td>\n",
              "      <td>NaN</td>\n",
              "      <td>NaN</td>\n",
              "      <td>NaN</td>\n",
              "      <td>NaN</td>\n",
              "      <td>NaN</td>\n",
              "      <td>NaN</td>\n",
              "      <td>NaN</td>\n",
              "      <td>NaN</td>\n",
              "      <td>NaN</td>\n",
              "      <td>False</td>\n",
              "      <td>43.0</td>\n",
              "      <td>1774</td>\n",
              "    </tr>\n",
              "  </tbody>\n",
              "</table>\n",
              "</div>"
            ],
            "text/plain": [
              "   Unnamed: 0  Unnamed: 0.1  ... dollarValueMentionedinMessage messageLength\n",
              "0           0        500000  ...                           NaN          2570\n",
              "1           1        500001  ...                           NaN          3761\n",
              "2           2        500002  ...                           NaN          1348\n",
              "3           3        500003  ...                          37.0          2592\n",
              "4           4        500004  ...                          43.0          1774\n",
              "\n",
              "[5 rows x 55 columns]"
            ]
          },
          "metadata": {
            "tags": []
          },
          "execution_count": 5
        }
      ]
    },
    {
      "cell_type": "markdown",
      "metadata": {
        "id": "7DjKsT9p2hUI",
        "colab_type": "text"
      },
      "source": [
        "**1b.** Read the file enronEnrichedNonLatin.csv from the Module 4 folder into a pandas dataframe. This file has strange characters"
      ]
    },
    {
      "cell_type": "code",
      "metadata": {
        "id": "20Mb-2jP2hUJ",
        "colab_type": "code",
        "colab": {
          "base_uri": "https://localhost:8080/",
          "height": 504
        },
        "outputId": "a706cca9-d583-4987-98ca-1f9b69d270f5"
      },
      "source": [
        "df1b=pd.read_csv(r'https://github.com/Robmattles/Python-For-Data-Analysis/raw/master/Data%20Files/enronEnrichedNonLatin.csv', encoding='ISO-8859-1')\n",
        "df1b.head()"
      ],
      "execution_count": 7,
      "outputs": [
        {
          "output_type": "execute_result",
          "data": {
            "text/html": [
              "<div>\n",
              "<style scoped>\n",
              "    .dataframe tbody tr th:only-of-type {\n",
              "        vertical-align: middle;\n",
              "    }\n",
              "\n",
              "    .dataframe tbody tr th {\n",
              "        vertical-align: top;\n",
              "    }\n",
              "\n",
              "    .dataframe thead th {\n",
              "        text-align: right;\n",
              "    }\n",
              "</style>\n",
              "<table border=\"1\" class=\"dataframe\">\n",
              "  <thead>\n",
              "    <tr style=\"text-align: right;\">\n",
              "      <th></th>\n",
              "      <th>Index</th>\n",
              "      <th>Unnamed: 0</th>\n",
              "      <th>To</th>\n",
              "      <th>Subject</th>\n",
              "      <th>X-From</th>\n",
              "      <th>X-To</th>\n",
              "      <th>X-cc</th>\n",
              "      <th>X-bcc</th>\n",
              "      <th>X-Folder</th>\n",
              "      <th>X-Origin</th>\n",
              "      <th>X-FileName</th>\n",
              "      <th>content</th>\n",
              "      <th>user</th>\n",
              "      <th>Cat_1_level_1</th>\n",
              "      <th>Cat_1_level_2</th>\n",
              "      <th>Cat_1_weight</th>\n",
              "      <th>Cat_2_level_1</th>\n",
              "      <th>Cat_2_level_2</th>\n",
              "      <th>Cat_2_weight</th>\n",
              "      <th>Cat_3_level_1</th>\n",
              "      <th>Cat_3_level_2</th>\n",
              "      <th>Cat_3_weight</th>\n",
              "      <th>Cat_4_level_1</th>\n",
              "      <th>Cat_4_level_2</th>\n",
              "      <th>Cat_4_weight</th>\n",
              "      <th>Cat_5_level_1</th>\n",
              "      <th>Cat_5_level_2</th>\n",
              "      <th>Cat_5_weight</th>\n",
              "      <th>Cat_6_level_1</th>\n",
              "      <th>Cat_6_level_2</th>\n",
              "      <th>Cat_6_weight</th>\n",
              "      <th>Cat_7_level_1</th>\n",
              "      <th>Cat_7_level_2</th>\n",
              "      <th>Cat_7_weight</th>\n",
              "      <th>Cat_8_level_1</th>\n",
              "      <th>Cat_8_level_2</th>\n",
              "      <th>Cat_8_weight</th>\n",
              "      <th>Cat_9_level_1</th>\n",
              "      <th>Cat_9_level_2</th>\n",
              "      <th>Cat_9_weight</th>\n",
              "      <th>Cat_10_level_1</th>\n",
              "      <th>Cat_10_level_2</th>\n",
              "      <th>Cat_10_weight</th>\n",
              "      <th>Cat_11_level_1</th>\n",
              "      <th>Cat_11_level_2</th>\n",
              "      <th>Cat_11_weight</th>\n",
              "      <th>Cat_12_level_1</th>\n",
              "      <th>Cat_12_level_2</th>\n",
              "      <th>Cat_12_weight</th>\n",
              "      <th>labeled</th>\n",
              "      <th>dollarValueMentionedinMessage</th>\n",
              "      <th>messageLength</th>\n",
              "    </tr>\n",
              "  </thead>\n",
              "  <tbody>\n",
              "    <tr>\n",
              "      <th>0</th>\n",
              "      <td>0</td>\n",
              "      <td>®</td>\n",
              "      <td>frozenset({'david.fairley@enron.com', 'matt.lo...</td>\n",
              "      <td>RTO Orders - Grid South, SE Trans, SPP and Ent...</td>\n",
              "      <td>Fulton, Donna &lt;/O=ENRON/OU=NA/CN=RECIPIENTS/CN...</td>\n",
              "      <td>Kean, Steven &lt;/O=ENRON/OU=NA/CN=RECIPIENTS/CN=...</td>\n",
              "      <td>NaN</td>\n",
              "      <td>NaN</td>\n",
              "      <td>\\GWHALLE (Non-Privileged)\\Markets</td>\n",
              "      <td>WHALLEY-G</td>\n",
              "      <td>GWHALLE (Non-Privileged).pst</td>\n",
              "      <td>The Southeast RTO orders are out and have foll...</td>\n",
              "      <td>whalley-g</td>\n",
              "      <td>NaN</td>\n",
              "      <td>NaN</td>\n",
              "      <td>NaN</td>\n",
              "      <td>NaN</td>\n",
              "      <td>NaN</td>\n",
              "      <td>NaN</td>\n",
              "      <td>NaN</td>\n",
              "      <td>NaN</td>\n",
              "      <td>NaN</td>\n",
              "      <td>NaN</td>\n",
              "      <td>NaN</td>\n",
              "      <td>NaN</td>\n",
              "      <td>NaN</td>\n",
              "      <td>NaN</td>\n",
              "      <td>NaN</td>\n",
              "      <td>NaN</td>\n",
              "      <td>NaN</td>\n",
              "      <td>NaN</td>\n",
              "      <td>NaN</td>\n",
              "      <td>NaN</td>\n",
              "      <td>NaN</td>\n",
              "      <td>NaN</td>\n",
              "      <td>NaN</td>\n",
              "      <td>NaN</td>\n",
              "      <td>NaN</td>\n",
              "      <td>NaN</td>\n",
              "      <td>NaN</td>\n",
              "      <td>NaN</td>\n",
              "      <td>NaN</td>\n",
              "      <td>NaN</td>\n",
              "      <td>NaN</td>\n",
              "      <td>NaN</td>\n",
              "      <td>NaN</td>\n",
              "      <td>NaN</td>\n",
              "      <td>NaN</td>\n",
              "      <td>NaN</td>\n",
              "      <td>False</td>\n",
              "      <td>NaN</td>\n",
              "      <td>2570</td>\n",
              "    </tr>\n",
              "    <tr>\n",
              "      <th>1</th>\n",
              "      <td>1</td>\n",
              "      <td>®</td>\n",
              "      <td>frozenset({'john.greg@enron.com', 'jeff.skilli...</td>\n",
              "      <td>More UC/CSU Info</td>\n",
              "      <td>Delainey, David &lt;/O=ENRON/OU=NA/CN=RECIPIENTS/...</td>\n",
              "      <td>Greg Whalley/HOU/ECT@ENRON, Lavorato, John &lt;/O...</td>\n",
              "      <td>NaN</td>\n",
              "      <td>NaN</td>\n",
              "      <td>\\GWHALLE (Non-Privileged)\\Markets</td>\n",
              "      <td>WHALLEY-G</td>\n",
              "      <td>GWHALLE (Non-Privileged).pst</td>\n",
              "      <td>---------------------- Forwarded by David W De...</td>\n",
              "      <td>whalley-g</td>\n",
              "      <td>NaN</td>\n",
              "      <td>NaN</td>\n",
              "      <td>NaN</td>\n",
              "      <td>NaN</td>\n",
              "      <td>NaN</td>\n",
              "      <td>NaN</td>\n",
              "      <td>NaN</td>\n",
              "      <td>NaN</td>\n",
              "      <td>NaN</td>\n",
              "      <td>NaN</td>\n",
              "      <td>NaN</td>\n",
              "      <td>NaN</td>\n",
              "      <td>NaN</td>\n",
              "      <td>NaN</td>\n",
              "      <td>NaN</td>\n",
              "      <td>NaN</td>\n",
              "      <td>NaN</td>\n",
              "      <td>NaN</td>\n",
              "      <td>NaN</td>\n",
              "      <td>NaN</td>\n",
              "      <td>NaN</td>\n",
              "      <td>NaN</td>\n",
              "      <td>NaN</td>\n",
              "      <td>NaN</td>\n",
              "      <td>NaN</td>\n",
              "      <td>NaN</td>\n",
              "      <td>NaN</td>\n",
              "      <td>NaN</td>\n",
              "      <td>NaN</td>\n",
              "      <td>NaN</td>\n",
              "      <td>NaN</td>\n",
              "      <td>NaN</td>\n",
              "      <td>NaN</td>\n",
              "      <td>NaN</td>\n",
              "      <td>NaN</td>\n",
              "      <td>NaN</td>\n",
              "      <td>False</td>\n",
              "      <td>NaN</td>\n",
              "      <td>3761</td>\n",
              "    </tr>\n",
              "    <tr>\n",
              "      <th>2</th>\n",
              "      <td>2</td>\n",
              "      <td>®</td>\n",
              "      <td>frozenset({'linda.robertson@enron.com', 'harry...</td>\n",
              "      <td>California Update 07.09.01</td>\n",
              "      <td>Dasovich, Jeff &lt;/O=ENRON/OU=NA/CN=RECIPIENTS/C...</td>\n",
              "      <td>skean@enron.com, Shapiro, Richard &lt;/O=ENRON/OU...</td>\n",
              "      <td>NaN</td>\n",
              "      <td>NaN</td>\n",
              "      <td>\\GWHALLE (Non-Privileged)\\Markets</td>\n",
              "      <td>WHALLEY-G</td>\n",
              "      <td>GWHALLE (Non-Privileged).pst</td>\n",
              "      <td>The Bond Legislation The Democrats in the Asse...</td>\n",
              "      <td>whalley-g</td>\n",
              "      <td>NaN</td>\n",
              "      <td>NaN</td>\n",
              "      <td>NaN</td>\n",
              "      <td>NaN</td>\n",
              "      <td>NaN</td>\n",
              "      <td>NaN</td>\n",
              "      <td>NaN</td>\n",
              "      <td>NaN</td>\n",
              "      <td>NaN</td>\n",
              "      <td>NaN</td>\n",
              "      <td>NaN</td>\n",
              "      <td>NaN</td>\n",
              "      <td>NaN</td>\n",
              "      <td>NaN</td>\n",
              "      <td>NaN</td>\n",
              "      <td>NaN</td>\n",
              "      <td>NaN</td>\n",
              "      <td>NaN</td>\n",
              "      <td>NaN</td>\n",
              "      <td>NaN</td>\n",
              "      <td>NaN</td>\n",
              "      <td>NaN</td>\n",
              "      <td>NaN</td>\n",
              "      <td>NaN</td>\n",
              "      <td>NaN</td>\n",
              "      <td>NaN</td>\n",
              "      <td>NaN</td>\n",
              "      <td>NaN</td>\n",
              "      <td>NaN</td>\n",
              "      <td>NaN</td>\n",
              "      <td>NaN</td>\n",
              "      <td>NaN</td>\n",
              "      <td>NaN</td>\n",
              "      <td>NaN</td>\n",
              "      <td>NaN</td>\n",
              "      <td>NaN</td>\n",
              "      <td>False</td>\n",
              "      <td>NaN</td>\n",
              "      <td>1348</td>\n",
              "    </tr>\n",
              "    <tr>\n",
              "      <th>3</th>\n",
              "      <td>3</td>\n",
              "      <td>®</td>\n",
              "      <td>frozenset({'greg.whalley@enron.com', 'john.lav...</td>\n",
              "      <td>Davis &amp; Company -- incompetence personified</td>\n",
              "      <td>Shapiro, Richard &lt;/O=ENRON/OU=NA/CN=RECIPIENTS...</td>\n",
              "      <td>Lavorato, John &lt;/O=ENRON/OU=NA/CN=RECIPIENTS/C...</td>\n",
              "      <td>NaN</td>\n",
              "      <td>NaN</td>\n",
              "      <td>\\GWHALLE (Non-Privileged)\\Markets</td>\n",
              "      <td>WHALLEY-G</td>\n",
              "      <td>GWHALLE (Non-Privileged).pst</td>\n",
              "      <td>FYI ---------------------- Forwarded by Richar...</td>\n",
              "      <td>whalley-g</td>\n",
              "      <td>NaN</td>\n",
              "      <td>NaN</td>\n",
              "      <td>NaN</td>\n",
              "      <td>NaN</td>\n",
              "      <td>NaN</td>\n",
              "      <td>NaN</td>\n",
              "      <td>NaN</td>\n",
              "      <td>NaN</td>\n",
              "      <td>NaN</td>\n",
              "      <td>NaN</td>\n",
              "      <td>NaN</td>\n",
              "      <td>NaN</td>\n",
              "      <td>NaN</td>\n",
              "      <td>NaN</td>\n",
              "      <td>NaN</td>\n",
              "      <td>NaN</td>\n",
              "      <td>NaN</td>\n",
              "      <td>NaN</td>\n",
              "      <td>NaN</td>\n",
              "      <td>NaN</td>\n",
              "      <td>NaN</td>\n",
              "      <td>NaN</td>\n",
              "      <td>NaN</td>\n",
              "      <td>NaN</td>\n",
              "      <td>NaN</td>\n",
              "      <td>NaN</td>\n",
              "      <td>NaN</td>\n",
              "      <td>NaN</td>\n",
              "      <td>NaN</td>\n",
              "      <td>NaN</td>\n",
              "      <td>NaN</td>\n",
              "      <td>NaN</td>\n",
              "      <td>NaN</td>\n",
              "      <td>NaN</td>\n",
              "      <td>NaN</td>\n",
              "      <td>NaN</td>\n",
              "      <td>False</td>\n",
              "      <td>37.0</td>\n",
              "      <td>2592</td>\n",
              "    </tr>\n",
              "    <tr>\n",
              "      <th>4</th>\n",
              "      <td>4</td>\n",
              "      <td>®</td>\n",
              "      <td>frozenset({'greg.whalley@enron.com', 'john.lav...</td>\n",
              "      <td>Link to DWR contract info</td>\n",
              "      <td>Shapiro, Richard &lt;/O=ENRON/OU=NA/CN=RECIPIENTS...</td>\n",
              "      <td>Lavorato, John &lt;/O=ENRON/OU=NA/CN=RECIPIENTS/C...</td>\n",
              "      <td>NaN</td>\n",
              "      <td>NaN</td>\n",
              "      <td>\\GWHALLE (Non-Privileged)\\Markets</td>\n",
              "      <td>WHALLEY-G</td>\n",
              "      <td>GWHALLE (Non-Privileged).pst</td>\n",
              "      <td>FYI ---------------------- Forwarded by Richar...</td>\n",
              "      <td>whalley-g</td>\n",
              "      <td>NaN</td>\n",
              "      <td>NaN</td>\n",
              "      <td>NaN</td>\n",
              "      <td>NaN</td>\n",
              "      <td>NaN</td>\n",
              "      <td>NaN</td>\n",
              "      <td>NaN</td>\n",
              "      <td>NaN</td>\n",
              "      <td>NaN</td>\n",
              "      <td>NaN</td>\n",
              "      <td>NaN</td>\n",
              "      <td>NaN</td>\n",
              "      <td>NaN</td>\n",
              "      <td>NaN</td>\n",
              "      <td>NaN</td>\n",
              "      <td>NaN</td>\n",
              "      <td>NaN</td>\n",
              "      <td>NaN</td>\n",
              "      <td>NaN</td>\n",
              "      <td>NaN</td>\n",
              "      <td>NaN</td>\n",
              "      <td>NaN</td>\n",
              "      <td>NaN</td>\n",
              "      <td>NaN</td>\n",
              "      <td>NaN</td>\n",
              "      <td>NaN</td>\n",
              "      <td>NaN</td>\n",
              "      <td>NaN</td>\n",
              "      <td>NaN</td>\n",
              "      <td>NaN</td>\n",
              "      <td>NaN</td>\n",
              "      <td>NaN</td>\n",
              "      <td>NaN</td>\n",
              "      <td>NaN</td>\n",
              "      <td>NaN</td>\n",
              "      <td>NaN</td>\n",
              "      <td>False</td>\n",
              "      <td>43.0</td>\n",
              "      <td>1774</td>\n",
              "    </tr>\n",
              "  </tbody>\n",
              "</table>\n",
              "</div>"
            ],
            "text/plain": [
              "   Index Unnamed: 0  ... dollarValueMentionedinMessage messageLength\n",
              "0      0          ®  ...                           NaN          2570\n",
              "1      1          ®  ...                           NaN          3761\n",
              "2      2          ®  ...                           NaN          1348\n",
              "3      3          ®  ...                          37.0          2592\n",
              "4      4          ®  ...                          43.0          1774\n",
              "\n",
              "[5 rows x 52 columns]"
            ]
          },
          "metadata": {
            "tags": []
          },
          "execution_count": 7
        }
      ]
    },
    {
      "cell_type": "markdown",
      "metadata": {
        "id": "D7lxHuvb2hUQ",
        "colab_type": "text"
      },
      "source": [
        "**1c.** Read the file enronEnrichedWithClass.csv from the Module 4 folder into a pandas dataframe.  This file has a fake classification banner in the first row.\n"
      ]
    },
    {
      "cell_type": "code",
      "metadata": {
        "id": "34bwSgNc2hUS",
        "colab_type": "code",
        "colab": {
          "base_uri": "https://localhost:8080/",
          "height": 504
        },
        "outputId": "7491336c-2abb-49d2-9cc0-5d88c5b24b01"
      },
      "source": [
        "df1c=pd.read_csv(r'https://github.com/Robmattles/Python-For-Data-Analysis/raw/master/Data%20Files/enronEnrichedWithClass.csv', skiprows=1 )\n",
        "df1c.head()"
      ],
      "execution_count": 9,
      "outputs": [
        {
          "output_type": "execute_result",
          "data": {
            "text/html": [
              "<div>\n",
              "<style scoped>\n",
              "    .dataframe tbody tr th:only-of-type {\n",
              "        vertical-align: middle;\n",
              "    }\n",
              "\n",
              "    .dataframe tbody tr th {\n",
              "        vertical-align: top;\n",
              "    }\n",
              "\n",
              "    .dataframe thead th {\n",
              "        text-align: right;\n",
              "    }\n",
              "</style>\n",
              "<table border=\"1\" class=\"dataframe\">\n",
              "  <thead>\n",
              "    <tr style=\"text-align: right;\">\n",
              "      <th></th>\n",
              "      <th>Index</th>\n",
              "      <th>Unnamed: 0</th>\n",
              "      <th>Message-ID</th>\n",
              "      <th>Date</th>\n",
              "      <th>From</th>\n",
              "      <th>To</th>\n",
              "      <th>Subject</th>\n",
              "      <th>X-From</th>\n",
              "      <th>X-To</th>\n",
              "      <th>X-cc</th>\n",
              "      <th>X-bcc</th>\n",
              "      <th>X-Folder</th>\n",
              "      <th>X-Origin</th>\n",
              "      <th>X-FileName</th>\n",
              "      <th>content</th>\n",
              "      <th>user</th>\n",
              "      <th>Cat_1_level_1</th>\n",
              "      <th>Cat_1_level_2</th>\n",
              "      <th>Cat_1_weight</th>\n",
              "      <th>Cat_2_level_1</th>\n",
              "      <th>Cat_2_level_2</th>\n",
              "      <th>Cat_2_weight</th>\n",
              "      <th>Cat_3_level_1</th>\n",
              "      <th>Cat_3_level_2</th>\n",
              "      <th>Cat_3_weight</th>\n",
              "      <th>Cat_4_level_1</th>\n",
              "      <th>Cat_4_level_2</th>\n",
              "      <th>Cat_4_weight</th>\n",
              "      <th>Cat_5_level_1</th>\n",
              "      <th>Cat_5_level_2</th>\n",
              "      <th>Cat_5_weight</th>\n",
              "      <th>Cat_6_level_1</th>\n",
              "      <th>Cat_6_level_2</th>\n",
              "      <th>Cat_6_weight</th>\n",
              "      <th>Cat_7_level_1</th>\n",
              "      <th>Cat_7_level_2</th>\n",
              "      <th>Cat_7_weight</th>\n",
              "      <th>Cat_8_level_1</th>\n",
              "      <th>Cat_8_level_2</th>\n",
              "      <th>Cat_8_weight</th>\n",
              "      <th>Cat_9_level_1</th>\n",
              "      <th>Cat_9_level_2</th>\n",
              "      <th>Cat_9_weight</th>\n",
              "      <th>Cat_10_level_1</th>\n",
              "      <th>Cat_10_level_2</th>\n",
              "      <th>Cat_10_weight</th>\n",
              "      <th>Cat_11_level_1</th>\n",
              "      <th>Cat_11_level_2</th>\n",
              "      <th>Cat_11_weight</th>\n",
              "      <th>Cat_12_level_1</th>\n",
              "      <th>Cat_12_level_2</th>\n",
              "      <th>Cat_12_weight</th>\n",
              "      <th>labeled</th>\n",
              "      <th>dollarValueMentionedinMessage</th>\n",
              "      <th>messageLength</th>\n",
              "    </tr>\n",
              "  </thead>\n",
              "  <tbody>\n",
              "    <tr>\n",
              "      <th>0</th>\n",
              "      <td>0</td>\n",
              "      <td>500000</td>\n",
              "      <td>&lt;30866805.1075852350908.JavaMail.evans@thyme&gt;</td>\n",
              "      <td>7/13/2001 19:47</td>\n",
              "      <td>frozenset({'donna.fulton@enron.com'})</td>\n",
              "      <td>frozenset({'david.fairley@enron.com', 'matt.lo...</td>\n",
              "      <td>RTO Orders - Grid South, SE Trans, SPP and Ent...</td>\n",
              "      <td>Fulton, Donna &lt;/O=ENRON/OU=NA/CN=RECIPIENTS/CN...</td>\n",
              "      <td>Kean, Steven &lt;/O=ENRON/OU=NA/CN=RECIPIENTS/CN=...</td>\n",
              "      <td>NaN</td>\n",
              "      <td>NaN</td>\n",
              "      <td>\\GWHALLE (Non-Privileged)\\Markets</td>\n",
              "      <td>WHALLEY-G</td>\n",
              "      <td>GWHALLE (Non-Privileged).pst</td>\n",
              "      <td>The Southeast RTO orders are out and have foll...</td>\n",
              "      <td>whalley-g</td>\n",
              "      <td>NaN</td>\n",
              "      <td>NaN</td>\n",
              "      <td>NaN</td>\n",
              "      <td>NaN</td>\n",
              "      <td>NaN</td>\n",
              "      <td>NaN</td>\n",
              "      <td>NaN</td>\n",
              "      <td>NaN</td>\n",
              "      <td>NaN</td>\n",
              "      <td>NaN</td>\n",
              "      <td>NaN</td>\n",
              "      <td>NaN</td>\n",
              "      <td>NaN</td>\n",
              "      <td>NaN</td>\n",
              "      <td>NaN</td>\n",
              "      <td>NaN</td>\n",
              "      <td>NaN</td>\n",
              "      <td>NaN</td>\n",
              "      <td>NaN</td>\n",
              "      <td>NaN</td>\n",
              "      <td>NaN</td>\n",
              "      <td>NaN</td>\n",
              "      <td>NaN</td>\n",
              "      <td>NaN</td>\n",
              "      <td>NaN</td>\n",
              "      <td>NaN</td>\n",
              "      <td>NaN</td>\n",
              "      <td>NaN</td>\n",
              "      <td>NaN</td>\n",
              "      <td>NaN</td>\n",
              "      <td>NaN</td>\n",
              "      <td>NaN</td>\n",
              "      <td>NaN</td>\n",
              "      <td>NaN</td>\n",
              "      <td>NaN</td>\n",
              "      <td>NaN</td>\n",
              "      <td>False</td>\n",
              "      <td>NaN</td>\n",
              "      <td>2570</td>\n",
              "    </tr>\n",
              "    <tr>\n",
              "      <th>1</th>\n",
              "      <td>1</td>\n",
              "      <td>500001</td>\n",
              "      <td>&lt;26879196.1075852350962.JavaMail.evans@thyme&gt;</td>\n",
              "      <td>7/12/2001 11:36</td>\n",
              "      <td>frozenset({'david.delainey@enron.com'})</td>\n",
              "      <td>frozenset({'john.greg@enron.com', 'jeff.skilli...</td>\n",
              "      <td>More UC/CSU Info</td>\n",
              "      <td>Delainey, David &lt;/O=ENRON/OU=NA/CN=RECIPIENTS/...</td>\n",
              "      <td>Greg Whalley/HOU/ECT@ENRON, Lavorato, John &lt;/O...</td>\n",
              "      <td>NaN</td>\n",
              "      <td>NaN</td>\n",
              "      <td>\\GWHALLE (Non-Privileged)\\Markets</td>\n",
              "      <td>WHALLEY-G</td>\n",
              "      <td>GWHALLE (Non-Privileged).pst</td>\n",
              "      <td>---------------------- Forwarded by David W De...</td>\n",
              "      <td>whalley-g</td>\n",
              "      <td>NaN</td>\n",
              "      <td>NaN</td>\n",
              "      <td>NaN</td>\n",
              "      <td>NaN</td>\n",
              "      <td>NaN</td>\n",
              "      <td>NaN</td>\n",
              "      <td>NaN</td>\n",
              "      <td>NaN</td>\n",
              "      <td>NaN</td>\n",
              "      <td>NaN</td>\n",
              "      <td>NaN</td>\n",
              "      <td>NaN</td>\n",
              "      <td>NaN</td>\n",
              "      <td>NaN</td>\n",
              "      <td>NaN</td>\n",
              "      <td>NaN</td>\n",
              "      <td>NaN</td>\n",
              "      <td>NaN</td>\n",
              "      <td>NaN</td>\n",
              "      <td>NaN</td>\n",
              "      <td>NaN</td>\n",
              "      <td>NaN</td>\n",
              "      <td>NaN</td>\n",
              "      <td>NaN</td>\n",
              "      <td>NaN</td>\n",
              "      <td>NaN</td>\n",
              "      <td>NaN</td>\n",
              "      <td>NaN</td>\n",
              "      <td>NaN</td>\n",
              "      <td>NaN</td>\n",
              "      <td>NaN</td>\n",
              "      <td>NaN</td>\n",
              "      <td>NaN</td>\n",
              "      <td>NaN</td>\n",
              "      <td>NaN</td>\n",
              "      <td>NaN</td>\n",
              "      <td>False</td>\n",
              "      <td>NaN</td>\n",
              "      <td>3761</td>\n",
              "    </tr>\n",
              "    <tr>\n",
              "      <th>2</th>\n",
              "      <td>2</td>\n",
              "      <td>500002</td>\n",
              "      <td>&lt;15339082.1075852350988.JavaMail.evans@thyme&gt;</td>\n",
              "      <td>7/10/2001 0:47</td>\n",
              "      <td>frozenset({'jeff.dasovich@enron.com'})</td>\n",
              "      <td>frozenset({'linda.robertson@enron.com', 'harry...</td>\n",
              "      <td>California Update 07.09.01</td>\n",
              "      <td>Dasovich, Jeff &lt;/O=ENRON/OU=NA/CN=RECIPIENTS/C...</td>\n",
              "      <td>skean@enron.com, Shapiro, Richard &lt;/O=ENRON/OU...</td>\n",
              "      <td>NaN</td>\n",
              "      <td>NaN</td>\n",
              "      <td>\\GWHALLE (Non-Privileged)\\Markets</td>\n",
              "      <td>WHALLEY-G</td>\n",
              "      <td>GWHALLE (Non-Privileged).pst</td>\n",
              "      <td>The Bond Legislation The Democrats in the Asse...</td>\n",
              "      <td>whalley-g</td>\n",
              "      <td>NaN</td>\n",
              "      <td>NaN</td>\n",
              "      <td>NaN</td>\n",
              "      <td>NaN</td>\n",
              "      <td>NaN</td>\n",
              "      <td>NaN</td>\n",
              "      <td>NaN</td>\n",
              "      <td>NaN</td>\n",
              "      <td>NaN</td>\n",
              "      <td>NaN</td>\n",
              "      <td>NaN</td>\n",
              "      <td>NaN</td>\n",
              "      <td>NaN</td>\n",
              "      <td>NaN</td>\n",
              "      <td>NaN</td>\n",
              "      <td>NaN</td>\n",
              "      <td>NaN</td>\n",
              "      <td>NaN</td>\n",
              "      <td>NaN</td>\n",
              "      <td>NaN</td>\n",
              "      <td>NaN</td>\n",
              "      <td>NaN</td>\n",
              "      <td>NaN</td>\n",
              "      <td>NaN</td>\n",
              "      <td>NaN</td>\n",
              "      <td>NaN</td>\n",
              "      <td>NaN</td>\n",
              "      <td>NaN</td>\n",
              "      <td>NaN</td>\n",
              "      <td>NaN</td>\n",
              "      <td>NaN</td>\n",
              "      <td>NaN</td>\n",
              "      <td>NaN</td>\n",
              "      <td>NaN</td>\n",
              "      <td>NaN</td>\n",
              "      <td>NaN</td>\n",
              "      <td>False</td>\n",
              "      <td>NaN</td>\n",
              "      <td>1348</td>\n",
              "    </tr>\n",
              "    <tr>\n",
              "      <th>3</th>\n",
              "      <td>3</td>\n",
              "      <td>500003</td>\n",
              "      <td>&lt;5265469.1075852351013.JavaMail.evans@thyme&gt;</td>\n",
              "      <td>7/6/2001 20:45</td>\n",
              "      <td>frozenset({'richard.shapiro@enron.com'})</td>\n",
              "      <td>frozenset({'greg.whalley@enron.com', 'john.lav...</td>\n",
              "      <td>Davis &amp; Company -- incompetence personified</td>\n",
              "      <td>Shapiro, Richard &lt;/O=ENRON/OU=NA/CN=RECIPIENTS...</td>\n",
              "      <td>Lavorato, John &lt;/O=ENRON/OU=NA/CN=RECIPIENTS/C...</td>\n",
              "      <td>NaN</td>\n",
              "      <td>NaN</td>\n",
              "      <td>\\GWHALLE (Non-Privileged)\\Markets</td>\n",
              "      <td>WHALLEY-G</td>\n",
              "      <td>GWHALLE (Non-Privileged).pst</td>\n",
              "      <td>FYI ---------------------- Forwarded by Richar...</td>\n",
              "      <td>whalley-g</td>\n",
              "      <td>NaN</td>\n",
              "      <td>NaN</td>\n",
              "      <td>NaN</td>\n",
              "      <td>NaN</td>\n",
              "      <td>NaN</td>\n",
              "      <td>NaN</td>\n",
              "      <td>NaN</td>\n",
              "      <td>NaN</td>\n",
              "      <td>NaN</td>\n",
              "      <td>NaN</td>\n",
              "      <td>NaN</td>\n",
              "      <td>NaN</td>\n",
              "      <td>NaN</td>\n",
              "      <td>NaN</td>\n",
              "      <td>NaN</td>\n",
              "      <td>NaN</td>\n",
              "      <td>NaN</td>\n",
              "      <td>NaN</td>\n",
              "      <td>NaN</td>\n",
              "      <td>NaN</td>\n",
              "      <td>NaN</td>\n",
              "      <td>NaN</td>\n",
              "      <td>NaN</td>\n",
              "      <td>NaN</td>\n",
              "      <td>NaN</td>\n",
              "      <td>NaN</td>\n",
              "      <td>NaN</td>\n",
              "      <td>NaN</td>\n",
              "      <td>NaN</td>\n",
              "      <td>NaN</td>\n",
              "      <td>NaN</td>\n",
              "      <td>NaN</td>\n",
              "      <td>NaN</td>\n",
              "      <td>NaN</td>\n",
              "      <td>NaN</td>\n",
              "      <td>NaN</td>\n",
              "      <td>False</td>\n",
              "      <td>37.0</td>\n",
              "      <td>2592</td>\n",
              "    </tr>\n",
              "    <tr>\n",
              "      <th>4</th>\n",
              "      <td>4</td>\n",
              "      <td>500004</td>\n",
              "      <td>&lt;13706905.1075852351066.JavaMail.evans@thyme&gt;</td>\n",
              "      <td>7/6/2001 20:44</td>\n",
              "      <td>frozenset({'richard.shapiro@enron.com'})</td>\n",
              "      <td>frozenset({'greg.whalley@enron.com', 'john.lav...</td>\n",
              "      <td>Link to DWR contract info</td>\n",
              "      <td>Shapiro, Richard &lt;/O=ENRON/OU=NA/CN=RECIPIENTS...</td>\n",
              "      <td>Lavorato, John &lt;/O=ENRON/OU=NA/CN=RECIPIENTS/C...</td>\n",
              "      <td>NaN</td>\n",
              "      <td>NaN</td>\n",
              "      <td>\\GWHALLE (Non-Privileged)\\Markets</td>\n",
              "      <td>WHALLEY-G</td>\n",
              "      <td>GWHALLE (Non-Privileged).pst</td>\n",
              "      <td>FYI ---------------------- Forwarded by Richar...</td>\n",
              "      <td>whalley-g</td>\n",
              "      <td>NaN</td>\n",
              "      <td>NaN</td>\n",
              "      <td>NaN</td>\n",
              "      <td>NaN</td>\n",
              "      <td>NaN</td>\n",
              "      <td>NaN</td>\n",
              "      <td>NaN</td>\n",
              "      <td>NaN</td>\n",
              "      <td>NaN</td>\n",
              "      <td>NaN</td>\n",
              "      <td>NaN</td>\n",
              "      <td>NaN</td>\n",
              "      <td>NaN</td>\n",
              "      <td>NaN</td>\n",
              "      <td>NaN</td>\n",
              "      <td>NaN</td>\n",
              "      <td>NaN</td>\n",
              "      <td>NaN</td>\n",
              "      <td>NaN</td>\n",
              "      <td>NaN</td>\n",
              "      <td>NaN</td>\n",
              "      <td>NaN</td>\n",
              "      <td>NaN</td>\n",
              "      <td>NaN</td>\n",
              "      <td>NaN</td>\n",
              "      <td>NaN</td>\n",
              "      <td>NaN</td>\n",
              "      <td>NaN</td>\n",
              "      <td>NaN</td>\n",
              "      <td>NaN</td>\n",
              "      <td>NaN</td>\n",
              "      <td>NaN</td>\n",
              "      <td>NaN</td>\n",
              "      <td>NaN</td>\n",
              "      <td>NaN</td>\n",
              "      <td>NaN</td>\n",
              "      <td>False</td>\n",
              "      <td>43.0</td>\n",
              "      <td>1774</td>\n",
              "    </tr>\n",
              "  </tbody>\n",
              "</table>\n",
              "</div>"
            ],
            "text/plain": [
              "   Index  Unnamed: 0  ... dollarValueMentionedinMessage messageLength\n",
              "0      0      500000  ...                           NaN          2570\n",
              "1      1      500001  ...                           NaN          3761\n",
              "2      2      500002  ...                           NaN          1348\n",
              "3      3      500003  ...                          37.0          2592\n",
              "4      4      500004  ...                          43.0          1774\n",
              "\n",
              "[5 rows x 55 columns]"
            ]
          },
          "metadata": {
            "tags": []
          },
          "execution_count": 9
        }
      ]
    },
    {
      "cell_type": "markdown",
      "metadata": {
        "id": "U9aiprxt2hUY",
        "colab_type": "text"
      },
      "source": [
        "**1d** Read the second and third sheets of enronEnriched**.xlsx** into a pandas dataframe.  \n"
      ]
    },
    {
      "cell_type": "code",
      "metadata": {
        "id": "VltNOb5s2hUa",
        "colab_type": "code",
        "colab": {
          "base_uri": "https://localhost:8080/",
          "height": 54
        },
        "outputId": "f2e79712-1119-4c34-e6a3-59a92608d629"
      },
      "source": [
        "secondSheet=pd.read_excel(r'https://github.com/Robmattles/Python-For-Data-Analysis/raw/master/Data%20Files/enronEnriched.xlsx', sheet_name=1)\n",
        "print(secondSheet.shape)\n",
        "thirdSheet=pd.read_excel(r'https://github.com/Robmattles/Python-For-Data-Analysis/raw/master/Data%20Files/enronEnriched.xlsx', sheet_name=2)\n",
        "print(thirdSheet.shape)"
      ],
      "execution_count": 10,
      "outputs": [
        {
          "output_type": "stream",
          "text": [
            "(15, 55)\n",
            "(8, 55)\n"
          ],
          "name": "stdout"
        }
      ]
    },
    {
      "cell_type": "markdown",
      "metadata": {
        "id": "2mcOjDIh2hUf",
        "colab_type": "text"
      },
      "source": [
        "### Part 2:  Performing Basic Cleaning Operations"
      ]
    },
    {
      "cell_type": "markdown",
      "metadata": {
        "id": "YcuLzlAA2hUh",
        "colab_type": "text"
      },
      "source": [
        "**2a** Remove all columns from the data frame except for the following:  'Subject', 'X-From', 'X-To', 'X-cc',\n",
        "       'X-bcc', 'X-Folder', 'X-Origin', 'X-FileName', 'content', 'user', 'labeled', 'dollarValueMentionedinMessage', 'messageLength', 'Date'"
      ]
    },
    {
      "cell_type": "code",
      "metadata": {
        "id": "8ohnCCwU2hUi",
        "colab_type": "code",
        "colab": {
          "base_uri": "https://localhost:8080/",
          "height": 380
        },
        "outputId": "33330e75-1bd6-4c9d-b027-f1e7783a8e51"
      },
      "source": [
        "df=df[['Subject', 'X-From', 'X-To', 'X-cc', 'X-bcc', 'X-Folder', 'X-Origin', 'X-FileName', 'content', 'user', 'labeled', 'dollarValueMentionedinMessage', 'messageLength', 'Date']]\n",
        "df.head()"
      ],
      "execution_count": 11,
      "outputs": [
        {
          "output_type": "execute_result",
          "data": {
            "text/html": [
              "<div>\n",
              "<style scoped>\n",
              "    .dataframe tbody tr th:only-of-type {\n",
              "        vertical-align: middle;\n",
              "    }\n",
              "\n",
              "    .dataframe tbody tr th {\n",
              "        vertical-align: top;\n",
              "    }\n",
              "\n",
              "    .dataframe thead th {\n",
              "        text-align: right;\n",
              "    }\n",
              "</style>\n",
              "<table border=\"1\" class=\"dataframe\">\n",
              "  <thead>\n",
              "    <tr style=\"text-align: right;\">\n",
              "      <th></th>\n",
              "      <th>Subject</th>\n",
              "      <th>X-From</th>\n",
              "      <th>X-To</th>\n",
              "      <th>X-cc</th>\n",
              "      <th>X-bcc</th>\n",
              "      <th>X-Folder</th>\n",
              "      <th>X-Origin</th>\n",
              "      <th>X-FileName</th>\n",
              "      <th>content</th>\n",
              "      <th>user</th>\n",
              "      <th>labeled</th>\n",
              "      <th>dollarValueMentionedinMessage</th>\n",
              "      <th>messageLength</th>\n",
              "      <th>Date</th>\n",
              "    </tr>\n",
              "  </thead>\n",
              "  <tbody>\n",
              "    <tr>\n",
              "      <th>0</th>\n",
              "      <td>RTO Orders - Grid South, SE Trans, SPP and Ent...</td>\n",
              "      <td>Fulton, Donna &lt;/O=ENRON/OU=NA/CN=RECIPIENTS/CN...</td>\n",
              "      <td>Kean, Steven &lt;/O=ENRON/OU=NA/CN=RECIPIENTS/CN=...</td>\n",
              "      <td>NaN</td>\n",
              "      <td>NaN</td>\n",
              "      <td>\\GWHALLE (Non-Privileged)\\Markets</td>\n",
              "      <td>WHALLEY-G</td>\n",
              "      <td>GWHALLE (Non-Privileged).pst</td>\n",
              "      <td>The Southeast RTO orders are out and have foll...</td>\n",
              "      <td>whalley-g</td>\n",
              "      <td>False</td>\n",
              "      <td>NaN</td>\n",
              "      <td>2570</td>\n",
              "      <td>2001-07-13 19:47:20</td>\n",
              "    </tr>\n",
              "    <tr>\n",
              "      <th>1</th>\n",
              "      <td>More UC/CSU Info</td>\n",
              "      <td>Delainey, David &lt;/O=ENRON/OU=NA/CN=RECIPIENTS/...</td>\n",
              "      <td>Greg Whalley/HOU/ECT@ENRON, Lavorato, John &lt;/O...</td>\n",
              "      <td>NaN</td>\n",
              "      <td>NaN</td>\n",
              "      <td>\\GWHALLE (Non-Privileged)\\Markets</td>\n",
              "      <td>WHALLEY-G</td>\n",
              "      <td>GWHALLE (Non-Privileged).pst</td>\n",
              "      <td>---------------------- Forwarded by David W De...</td>\n",
              "      <td>whalley-g</td>\n",
              "      <td>False</td>\n",
              "      <td>NaN</td>\n",
              "      <td>3761</td>\n",
              "      <td>2001-07-12 11:36:58</td>\n",
              "    </tr>\n",
              "    <tr>\n",
              "      <th>2</th>\n",
              "      <td>California Update 07.09.01</td>\n",
              "      <td>Dasovich, Jeff &lt;/O=ENRON/OU=NA/CN=RECIPIENTS/C...</td>\n",
              "      <td>skean@enron.com, Shapiro, Richard &lt;/O=ENRON/OU...</td>\n",
              "      <td>NaN</td>\n",
              "      <td>NaN</td>\n",
              "      <td>\\GWHALLE (Non-Privileged)\\Markets</td>\n",
              "      <td>WHALLEY-G</td>\n",
              "      <td>GWHALLE (Non-Privileged).pst</td>\n",
              "      <td>The Bond Legislation The Democrats in the Asse...</td>\n",
              "      <td>whalley-g</td>\n",
              "      <td>False</td>\n",
              "      <td>NaN</td>\n",
              "      <td>1348</td>\n",
              "      <td>2001-07-10 00:47:51</td>\n",
              "    </tr>\n",
              "    <tr>\n",
              "      <th>3</th>\n",
              "      <td>Davis &amp; Company -- incompetence personified</td>\n",
              "      <td>Shapiro, Richard &lt;/O=ENRON/OU=NA/CN=RECIPIENTS...</td>\n",
              "      <td>Lavorato, John &lt;/O=ENRON/OU=NA/CN=RECIPIENTS/C...</td>\n",
              "      <td>NaN</td>\n",
              "      <td>NaN</td>\n",
              "      <td>\\GWHALLE (Non-Privileged)\\Markets</td>\n",
              "      <td>WHALLEY-G</td>\n",
              "      <td>GWHALLE (Non-Privileged).pst</td>\n",
              "      <td>FYI ---------------------- Forwarded by Richar...</td>\n",
              "      <td>whalley-g</td>\n",
              "      <td>False</td>\n",
              "      <td>37.0</td>\n",
              "      <td>2592</td>\n",
              "      <td>2001-07-06 20:45:05</td>\n",
              "    </tr>\n",
              "    <tr>\n",
              "      <th>4</th>\n",
              "      <td>Link to DWR contract info</td>\n",
              "      <td>Shapiro, Richard &lt;/O=ENRON/OU=NA/CN=RECIPIENTS...</td>\n",
              "      <td>Lavorato, John &lt;/O=ENRON/OU=NA/CN=RECIPIENTS/C...</td>\n",
              "      <td>NaN</td>\n",
              "      <td>NaN</td>\n",
              "      <td>\\GWHALLE (Non-Privileged)\\Markets</td>\n",
              "      <td>WHALLEY-G</td>\n",
              "      <td>GWHALLE (Non-Privileged).pst</td>\n",
              "      <td>FYI ---------------------- Forwarded by Richar...</td>\n",
              "      <td>whalley-g</td>\n",
              "      <td>False</td>\n",
              "      <td>43.0</td>\n",
              "      <td>1774</td>\n",
              "      <td>2001-07-06 20:44:33</td>\n",
              "    </tr>\n",
              "  </tbody>\n",
              "</table>\n",
              "</div>"
            ],
            "text/plain": [
              "                                             Subject  ...                 Date\n",
              "0  RTO Orders - Grid South, SE Trans, SPP and Ent...  ...  2001-07-13 19:47:20\n",
              "1                                   More UC/CSU Info  ...  2001-07-12 11:36:58\n",
              "2                         California Update 07.09.01  ...  2001-07-10 00:47:51\n",
              "3        Davis & Company -- incompetence personified  ...  2001-07-06 20:45:05\n",
              "4                          Link to DWR contract info  ...  2001-07-06 20:44:33\n",
              "\n",
              "[5 rows x 14 columns]"
            ]
          },
          "metadata": {
            "tags": []
          },
          "execution_count": 11
        }
      ]
    },
    {
      "cell_type": "markdown",
      "metadata": {
        "id": "1_N7lZCa2hUm",
        "colab_type": "text"
      },
      "source": [
        "**2b** Rename the columns, removing the \"X-\" from all columns starting with \"X-\""
      ]
    },
    {
      "cell_type": "code",
      "metadata": {
        "id": "1MPwDMDc2hUo",
        "colab_type": "code",
        "colab": {
          "base_uri": "https://localhost:8080/",
          "height": 380
        },
        "outputId": "70e2664d-2cbc-4655-d99d-f46019244f2b"
      },
      "source": [
        "df=df.rename(columns={'X-From':'From', 'X-To':'To', 'X-cc':'CC', 'X-bcc':'BCC', 'X-Folder':'Folder', 'X-Origin':'Origin', 'X-FileName':'FileName'})\n",
        "df.head()"
      ],
      "execution_count": 12,
      "outputs": [
        {
          "output_type": "execute_result",
          "data": {
            "text/html": [
              "<div>\n",
              "<style scoped>\n",
              "    .dataframe tbody tr th:only-of-type {\n",
              "        vertical-align: middle;\n",
              "    }\n",
              "\n",
              "    .dataframe tbody tr th {\n",
              "        vertical-align: top;\n",
              "    }\n",
              "\n",
              "    .dataframe thead th {\n",
              "        text-align: right;\n",
              "    }\n",
              "</style>\n",
              "<table border=\"1\" class=\"dataframe\">\n",
              "  <thead>\n",
              "    <tr style=\"text-align: right;\">\n",
              "      <th></th>\n",
              "      <th>Subject</th>\n",
              "      <th>From</th>\n",
              "      <th>To</th>\n",
              "      <th>CC</th>\n",
              "      <th>BCC</th>\n",
              "      <th>Folder</th>\n",
              "      <th>Origin</th>\n",
              "      <th>FileName</th>\n",
              "      <th>content</th>\n",
              "      <th>user</th>\n",
              "      <th>labeled</th>\n",
              "      <th>dollarValueMentionedinMessage</th>\n",
              "      <th>messageLength</th>\n",
              "      <th>Date</th>\n",
              "    </tr>\n",
              "  </thead>\n",
              "  <tbody>\n",
              "    <tr>\n",
              "      <th>0</th>\n",
              "      <td>RTO Orders - Grid South, SE Trans, SPP and Ent...</td>\n",
              "      <td>Fulton, Donna &lt;/O=ENRON/OU=NA/CN=RECIPIENTS/CN...</td>\n",
              "      <td>Kean, Steven &lt;/O=ENRON/OU=NA/CN=RECIPIENTS/CN=...</td>\n",
              "      <td>NaN</td>\n",
              "      <td>NaN</td>\n",
              "      <td>\\GWHALLE (Non-Privileged)\\Markets</td>\n",
              "      <td>WHALLEY-G</td>\n",
              "      <td>GWHALLE (Non-Privileged).pst</td>\n",
              "      <td>The Southeast RTO orders are out and have foll...</td>\n",
              "      <td>whalley-g</td>\n",
              "      <td>False</td>\n",
              "      <td>NaN</td>\n",
              "      <td>2570</td>\n",
              "      <td>2001-07-13 19:47:20</td>\n",
              "    </tr>\n",
              "    <tr>\n",
              "      <th>1</th>\n",
              "      <td>More UC/CSU Info</td>\n",
              "      <td>Delainey, David &lt;/O=ENRON/OU=NA/CN=RECIPIENTS/...</td>\n",
              "      <td>Greg Whalley/HOU/ECT@ENRON, Lavorato, John &lt;/O...</td>\n",
              "      <td>NaN</td>\n",
              "      <td>NaN</td>\n",
              "      <td>\\GWHALLE (Non-Privileged)\\Markets</td>\n",
              "      <td>WHALLEY-G</td>\n",
              "      <td>GWHALLE (Non-Privileged).pst</td>\n",
              "      <td>---------------------- Forwarded by David W De...</td>\n",
              "      <td>whalley-g</td>\n",
              "      <td>False</td>\n",
              "      <td>NaN</td>\n",
              "      <td>3761</td>\n",
              "      <td>2001-07-12 11:36:58</td>\n",
              "    </tr>\n",
              "    <tr>\n",
              "      <th>2</th>\n",
              "      <td>California Update 07.09.01</td>\n",
              "      <td>Dasovich, Jeff &lt;/O=ENRON/OU=NA/CN=RECIPIENTS/C...</td>\n",
              "      <td>skean@enron.com, Shapiro, Richard &lt;/O=ENRON/OU...</td>\n",
              "      <td>NaN</td>\n",
              "      <td>NaN</td>\n",
              "      <td>\\GWHALLE (Non-Privileged)\\Markets</td>\n",
              "      <td>WHALLEY-G</td>\n",
              "      <td>GWHALLE (Non-Privileged).pst</td>\n",
              "      <td>The Bond Legislation The Democrats in the Asse...</td>\n",
              "      <td>whalley-g</td>\n",
              "      <td>False</td>\n",
              "      <td>NaN</td>\n",
              "      <td>1348</td>\n",
              "      <td>2001-07-10 00:47:51</td>\n",
              "    </tr>\n",
              "    <tr>\n",
              "      <th>3</th>\n",
              "      <td>Davis &amp; Company -- incompetence personified</td>\n",
              "      <td>Shapiro, Richard &lt;/O=ENRON/OU=NA/CN=RECIPIENTS...</td>\n",
              "      <td>Lavorato, John &lt;/O=ENRON/OU=NA/CN=RECIPIENTS/C...</td>\n",
              "      <td>NaN</td>\n",
              "      <td>NaN</td>\n",
              "      <td>\\GWHALLE (Non-Privileged)\\Markets</td>\n",
              "      <td>WHALLEY-G</td>\n",
              "      <td>GWHALLE (Non-Privileged).pst</td>\n",
              "      <td>FYI ---------------------- Forwarded by Richar...</td>\n",
              "      <td>whalley-g</td>\n",
              "      <td>False</td>\n",
              "      <td>37.0</td>\n",
              "      <td>2592</td>\n",
              "      <td>2001-07-06 20:45:05</td>\n",
              "    </tr>\n",
              "    <tr>\n",
              "      <th>4</th>\n",
              "      <td>Link to DWR contract info</td>\n",
              "      <td>Shapiro, Richard &lt;/O=ENRON/OU=NA/CN=RECIPIENTS...</td>\n",
              "      <td>Lavorato, John &lt;/O=ENRON/OU=NA/CN=RECIPIENTS/C...</td>\n",
              "      <td>NaN</td>\n",
              "      <td>NaN</td>\n",
              "      <td>\\GWHALLE (Non-Privileged)\\Markets</td>\n",
              "      <td>WHALLEY-G</td>\n",
              "      <td>GWHALLE (Non-Privileged).pst</td>\n",
              "      <td>FYI ---------------------- Forwarded by Richar...</td>\n",
              "      <td>whalley-g</td>\n",
              "      <td>False</td>\n",
              "      <td>43.0</td>\n",
              "      <td>1774</td>\n",
              "      <td>2001-07-06 20:44:33</td>\n",
              "    </tr>\n",
              "  </tbody>\n",
              "</table>\n",
              "</div>"
            ],
            "text/plain": [
              "                                             Subject  ...                 Date\n",
              "0  RTO Orders - Grid South, SE Trans, SPP and Ent...  ...  2001-07-13 19:47:20\n",
              "1                                   More UC/CSU Info  ...  2001-07-12 11:36:58\n",
              "2                         California Update 07.09.01  ...  2001-07-10 00:47:51\n",
              "3        Davis & Company -- incompetence personified  ...  2001-07-06 20:45:05\n",
              "4                          Link to DWR contract info  ...  2001-07-06 20:44:33\n",
              "\n",
              "[5 rows x 14 columns]"
            ]
          },
          "metadata": {
            "tags": []
          },
          "execution_count": 12
        }
      ]
    },
    {
      "cell_type": "markdown",
      "metadata": {
        "id": "rQXA0e2c2hUt",
        "colab_type": "text"
      },
      "source": [
        "**2c** Write the renamed file to a csv called enronRenamed.csv"
      ]
    },
    {
      "cell_type": "code",
      "metadata": {
        "id": "4FXukv7J2hUv",
        "colab_type": "code",
        "colab": {}
      },
      "source": [
        "df.to_csv(r'C:\\Users\\CART\\Documents\\Python\\enronRenamed.csv')"
      ],
      "execution_count": 0,
      "outputs": []
    },
    {
      "cell_type": "markdown",
      "metadata": {
        "id": "Go7jLJLG2hU0",
        "colab_type": "text"
      },
      "source": [
        "### Part 3 - Basic Exploratory Data Analysis"
      ]
    },
    {
      "cell_type": "markdown",
      "metadata": {
        "id": "2vr5wZQM2hU1",
        "colab_type": "text"
      },
      "source": [
        "**3a**  Get the number of rows and columns from the dataframe (called df) that you worked with in part 2"
      ]
    },
    {
      "cell_type": "code",
      "metadata": {
        "id": "PV8DLAKM2hU2",
        "colab_type": "code",
        "colab": {
          "base_uri": "https://localhost:8080/",
          "height": 35
        },
        "outputId": "be21254f-ac26-4ef6-c6c8-f192c1d34718"
      },
      "source": [
        "numberOfRows=df.shape[0]\n",
        "numberOfColumns=df.shape[1]\n",
        "print('Dataframe has ',numberOfRows,' rows ',numberOfColumns,' columns')"
      ],
      "execution_count": 19,
      "outputs": [
        {
          "output_type": "stream",
          "text": [
            "Dataframe has  17401  rows  14  columns\n"
          ],
          "name": "stdout"
        }
      ]
    },
    {
      "cell_type": "markdown",
      "metadata": {
        "id": "YtDSrYhg2hU7",
        "colab_type": "text"
      },
      "source": [
        "**3b** Use the describe function to get summary statistics for each column of the dataframe (still using df from 1a)"
      ]
    },
    {
      "cell_type": "code",
      "metadata": {
        "id": "Gn4dM3v72hU8",
        "colab_type": "code",
        "colab": {
          "base_uri": "https://localhost:8080/",
          "height": 300
        },
        "outputId": "5501e86a-4bc1-43ca-9a6a-9b54f3676a75"
      },
      "source": [
        "df.describe()"
      ],
      "execution_count": 20,
      "outputs": [
        {
          "output_type": "execute_result",
          "data": {
            "text/html": [
              "<div>\n",
              "<style scoped>\n",
              "    .dataframe tbody tr th:only-of-type {\n",
              "        vertical-align: middle;\n",
              "    }\n",
              "\n",
              "    .dataframe tbody tr th {\n",
              "        vertical-align: top;\n",
              "    }\n",
              "\n",
              "    .dataframe thead th {\n",
              "        text-align: right;\n",
              "    }\n",
              "</style>\n",
              "<table border=\"1\" class=\"dataframe\">\n",
              "  <thead>\n",
              "    <tr style=\"text-align: right;\">\n",
              "      <th></th>\n",
              "      <th>dollarValueMentionedinMessage</th>\n",
              "      <th>messageLength</th>\n",
              "    </tr>\n",
              "  </thead>\n",
              "  <tbody>\n",
              "    <tr>\n",
              "      <th>count</th>\n",
              "      <td>2.244000e+03</td>\n",
              "      <td>17401.000000</td>\n",
              "    </tr>\n",
              "    <tr>\n",
              "      <th>mean</th>\n",
              "      <td>3.048070e+06</td>\n",
              "      <td>1222.784150</td>\n",
              "    </tr>\n",
              "    <tr>\n",
              "      <th>std</th>\n",
              "      <td>3.786289e+07</td>\n",
              "      <td>2723.022246</td>\n",
              "    </tr>\n",
              "    <tr>\n",
              "      <th>min</th>\n",
              "      <td>0.000000e+00</td>\n",
              "      <td>1.000000</td>\n",
              "    </tr>\n",
              "    <tr>\n",
              "      <th>25%</th>\n",
              "      <td>7.000000e+00</td>\n",
              "      <td>174.000000</td>\n",
              "    </tr>\n",
              "    <tr>\n",
              "      <th>50%</th>\n",
              "      <td>5.000000e+01</td>\n",
              "      <td>508.000000</td>\n",
              "    </tr>\n",
              "    <tr>\n",
              "      <th>75%</th>\n",
              "      <td>4.950000e+02</td>\n",
              "      <td>1302.000000</td>\n",
              "    </tr>\n",
              "    <tr>\n",
              "      <th>max</th>\n",
              "      <td>9.864142e+08</td>\n",
              "      <td>97845.000000</td>\n",
              "    </tr>\n",
              "  </tbody>\n",
              "</table>\n",
              "</div>"
            ],
            "text/plain": [
              "       dollarValueMentionedinMessage  messageLength\n",
              "count                   2.244000e+03   17401.000000\n",
              "mean                    3.048070e+06    1222.784150\n",
              "std                     3.786289e+07    2723.022246\n",
              "min                     0.000000e+00       1.000000\n",
              "25%                     7.000000e+00     174.000000\n",
              "50%                     5.000000e+01     508.000000\n",
              "75%                     4.950000e+02    1302.000000\n",
              "max                     9.864142e+08   97845.000000"
            ]
          },
          "metadata": {
            "tags": []
          },
          "execution_count": 20
        }
      ]
    },
    {
      "cell_type": "markdown",
      "metadata": {
        "id": "0Om02tKH2hVC",
        "colab_type": "text"
      },
      "source": [
        "**3c** Use the info function to get a different summary of the dataframe"
      ]
    },
    {
      "cell_type": "code",
      "metadata": {
        "id": "bhoWWcdR2hVD",
        "colab_type": "code",
        "colab": {
          "base_uri": "https://localhost:8080/",
          "height": 403
        },
        "outputId": "fc5efeda-4009-4ff1-ae6b-c8ef47ae1e2d"
      },
      "source": [
        "df.info()"
      ],
      "execution_count": 21,
      "outputs": [
        {
          "output_type": "stream",
          "text": [
            "<class 'pandas.core.frame.DataFrame'>\n",
            "RangeIndex: 17401 entries, 0 to 17400\n",
            "Data columns (total 14 columns):\n",
            " #   Column                         Non-Null Count  Dtype  \n",
            "---  ------                         --------------  -----  \n",
            " 0   Subject                        17074 non-null  object \n",
            " 1   From                           17397 non-null  object \n",
            " 2   To                             16181 non-null  object \n",
            " 3   CC                             5252 non-null   object \n",
            " 4   BCC                            11 non-null     object \n",
            " 5   Folder                         17397 non-null  object \n",
            " 6   Origin                         17397 non-null  object \n",
            " 7   FileName                       14979 non-null  object \n",
            " 8   content                        17369 non-null  object \n",
            " 9   user                           17401 non-null  object \n",
            " 10  labeled                        17401 non-null  bool   \n",
            " 11  dollarValueMentionedinMessage  2244 non-null   float64\n",
            " 12  messageLength                  17401 non-null  int64  \n",
            " 13  Date                           17401 non-null  object \n",
            "dtypes: bool(1), float64(1), int64(1), object(11)\n",
            "memory usage: 1.7+ MB\n"
          ],
          "name": "stdout"
        }
      ]
    },
    {
      "cell_type": "markdown",
      "metadata": {
        "id": "RswSDeQW2hVH",
        "colab_type": "text"
      },
      "source": [
        "**3d** Get a list of all the columns in the dataframe"
      ]
    },
    {
      "cell_type": "code",
      "metadata": {
        "id": "0MyAcuVk2hVI",
        "colab_type": "code",
        "colab": {
          "base_uri": "https://localhost:8080/",
          "height": 90
        },
        "outputId": "d6636b7e-93b4-44ad-86c2-8cbc47688533"
      },
      "source": [
        "listOfColumns=df.columns\n",
        "listOfColumns"
      ],
      "execution_count": 22,
      "outputs": [
        {
          "output_type": "execute_result",
          "data": {
            "text/plain": [
              "Index(['Subject', 'From', 'To', 'CC', 'BCC', 'Folder', 'Origin', 'FileName',\n",
              "       'content', 'user', 'labeled', 'dollarValueMentionedinMessage',\n",
              "       'messageLength', 'Date'],\n",
              "      dtype='object')"
            ]
          },
          "metadata": {
            "tags": []
          },
          "execution_count": 22
        }
      ]
    },
    {
      "cell_type": "markdown",
      "metadata": {
        "id": "ou4utvv_2hVO",
        "colab_type": "text"
      },
      "source": [
        "**3e** Get counts of the number of times each email sender appears in the 'From' column of the dataframe"
      ]
    },
    {
      "cell_type": "code",
      "metadata": {
        "id": "qW3mZLJP2hVP",
        "colab_type": "code",
        "colab": {
          "base_uri": "https://localhost:8080/",
          "height": 237
        },
        "outputId": "5f0f83d4-f779-4114-bb39-961f9d786e10"
      },
      "source": [
        "senders=df['From'].value_counts()\n",
        "senders"
      ],
      "execution_count": 23,
      "outputs": [
        {
          "output_type": "execute_result",
          "data": {
            "text/plain": [
              "Davis, Pete </O=ENRON/OU=NA/CN=RECIPIENTS/CN=PDAVIS1>            1392\n",
              "Williams III, Bill </O=ENRON/OU=NA/CN=RECIPIENTS/CN=BWILLIA5>     583\n",
              "Liz M Taylor                                                      563\n",
              "White, Stacey W. </O=ENRON/OU=NA/CN=RECIPIENTS/CN=SWHITE>         482\n",
              "Greg Whalley                                                      411\n",
              "                                                                 ... \n",
              "84-01 Corvette Newsletter <sales.ue.s9303.m18456351@ixs1.net>       1\n",
              "Black, Tamara Jae </O=ENRON/OU=NA/CN=RECIPIENTS/CN=TBLACK>          1\n",
              "Villarreal, Alex </O=ENRON/OU=NA/CN=RECIPIENTS/CN=AVILLAR4>         1\n",
              "O'Neil, Carla </O=ENRON/OU=NA/CN=RECIPIENTS/CN=CONEIL>              1\n",
              "andrew unverzagt <aunverzagt@houston.rr.com>                        1\n",
              "Name: From, Length: 2195, dtype: int64"
            ]
          },
          "metadata": {
            "tags": []
          },
          "execution_count": 23
        }
      ]
    },
    {
      "cell_type": "markdown",
      "metadata": {
        "id": "fcYNvzox2hVT",
        "colab_type": "text"
      },
      "source": [
        "(We'll learn how to clean this up in module 10)"
      ]
    },
    {
      "cell_type": "markdown",
      "metadata": {
        "id": "Ke1Hv7_j2hVU",
        "colab_type": "text"
      },
      "source": [
        "**3f** Create a histogram of the messageLength column"
      ]
    },
    {
      "cell_type": "code",
      "metadata": {
        "id": "vX0IXP4C2hVV",
        "colab_type": "code",
        "colab": {
          "base_uri": "https://localhost:8080/",
          "height": 283
        },
        "outputId": "b180b3a4-6251-461b-d2cf-597923421cae"
      },
      "source": [
        "%matplotlib inline\n",
        "##Your code here\n",
        "df['messageLength'].plot.hist()"
      ],
      "execution_count": 24,
      "outputs": [
        {
          "output_type": "execute_result",
          "data": {
            "text/plain": [
              "<matplotlib.axes._subplots.AxesSubplot at 0x7f6eab5172b0>"
            ]
          },
          "metadata": {
            "tags": []
          },
          "execution_count": 24
        },
        {
          "output_type": "display_data",
          "data": {
            "image/png": "[encoded data removed]",
            "text/plain": [
              "<Figure size 432x288 with 1 Axes>"
            ]
          },
          "metadata": {
            "tags": [],
            "needs_background": "light"
          }
        }
      ]
    },
    {
      "cell_type": "markdown",
      "metadata": {
        "id": "QD6y5HAA2hVZ",
        "colab_type": "text"
      },
      "source": [
        "**3g** Make a scatterplot of dollarValueMentionedinMessage and messageLength"
      ]
    },
    {
      "cell_type": "code",
      "metadata": {
        "id": "ybzsv_ah2hVa",
        "colab_type": "code",
        "colab": {
          "base_uri": "https://localhost:8080/",
          "height": 297
        },
        "outputId": "dd406196-0cce-46ed-8c7c-1c87cc8ba707"
      },
      "source": [
        "##Your code here\n",
        "df.plot.scatter(x='dollarValueMentionedinMessage', y='messageLength')\n"
      ],
      "execution_count": 25,
      "outputs": [
        {
          "output_type": "execute_result",
          "data": {
            "text/plain": [
              "<matplotlib.axes._subplots.AxesSubplot at 0x7f6eab7740f0>"
            ]
          },
          "metadata": {
            "tags": []
          },
          "execution_count": 25
        },
        {
          "output_type": "display_data",
          "data": {
            "image/png": "[encoded data removed]",
            "text/plain": [
              "<Figure size 432x288 with 1 Axes>"
            ]
          },
          "metadata": {
            "tags": [],
            "needs_background": "light"
          }
        }
      ]
    },
    {
      "cell_type": "markdown",
      "metadata": {
        "id": "eRKHFdle2hVd",
        "colab_type": "text"
      },
      "source": [
        "### Part 4 - Selecting rows and columns"
      ]
    },
    {
      "cell_type": "markdown",
      "metadata": {
        "id": "dx0Pj2232hVg",
        "colab_type": "text"
      },
      "source": [
        "**4a** Select just the 'From' column of the data frame"
      ]
    },
    {
      "cell_type": "code",
      "metadata": {
        "id": "2gUJ_gev2hVh",
        "colab_type": "code",
        "colab": {
          "base_uri": "https://localhost:8080/",
          "height": 127
        },
        "outputId": "d6c8596b-e246-48a4-d251-b372eebd35a0"
      },
      "source": [
        "fromColumn=df['From']\n",
        "fromColumn.head()"
      ],
      "execution_count": 26,
      "outputs": [
        {
          "output_type": "execute_result",
          "data": {
            "text/plain": [
              "0    Fulton, Donna </O=ENRON/OU=NA/CN=RECIPIENTS/CN...\n",
              "1    Delainey, David </O=ENRON/OU=NA/CN=RECIPIENTS/...\n",
              "2    Dasovich, Jeff </O=ENRON/OU=NA/CN=RECIPIENTS/C...\n",
              "3    Shapiro, Richard </O=ENRON/OU=NA/CN=RECIPIENTS...\n",
              "4    Shapiro, Richard </O=ENRON/OU=NA/CN=RECIPIENTS...\n",
              "Name: From, dtype: object"
            ]
          },
          "metadata": {
            "tags": []
          },
          "execution_count": 26
        }
      ]
    },
    {
      "cell_type": "markdown",
      "metadata": {
        "id": "lDpXEQ2C2hVm",
        "colab_type": "text"
      },
      "source": [
        "**4b** Select the 4th row of the dataframe"
      ]
    },
    {
      "cell_type": "code",
      "metadata": {
        "id": "uJoLAeKS2hVm",
        "colab_type": "code",
        "colab": {
          "base_uri": "https://localhost:8080/",
          "height": 293
        },
        "outputId": "24992dec-0a0a-4eb6-df84-54db808212c3"
      },
      "source": [
        "fourthRow=df.iloc[3]\n",
        "fourthRow"
      ],
      "execution_count": 32,
      "outputs": [
        {
          "output_type": "execute_result",
          "data": {
            "text/plain": [
              "Subject                                Davis & Company -- incompetence personified\n",
              "From                             Shapiro, Richard </O=ENRON/OU=NA/CN=RECIPIENTS...\n",
              "To                               Lavorato, John </O=ENRON/OU=NA/CN=RECIPIENTS/C...\n",
              "CC                                                                             NaN\n",
              "BCC                                                                            NaN\n",
              "Folder                                           \\GWHALLE (Non-Privileged)\\Markets\n",
              "Origin                                                                   WHALLEY-G\n",
              "FileName                                              GWHALLE (Non-Privileged).pst\n",
              "content                          FYI ---------------------- Forwarded by Richar...\n",
              "user                                                                     whalley-g\n",
              "labeled                                                                      False\n",
              "dollarValueMentionedinMessage                                                   37\n",
              "messageLength                                                                 2592\n",
              "Date                                                           2001-07-06 20:45:05\n",
              "Name: 3, dtype: object"
            ]
          },
          "metadata": {
            "tags": []
          },
          "execution_count": 32
        }
      ]
    },
    {
      "cell_type": "markdown",
      "metadata": {
        "id": "HJIwN4sr2hVq",
        "colab_type": "text"
      },
      "source": [
        "**4c** Select only the item in the from column from the fourth row of the data frame"
      ]
    },
    {
      "cell_type": "code",
      "metadata": {
        "id": "TUpDzL262hVq",
        "colab_type": "code",
        "colab": {
          "base_uri": "https://localhost:8080/",
          "height": 35
        },
        "outputId": "7c3b8208-ebbf-4777-809f-10143194cd79"
      },
      "source": [
        "fourthFrom=df['From'][3]\n",
        "fourthFrom"
      ],
      "execution_count": 33,
      "outputs": [
        {
          "output_type": "execute_result",
          "data": {
            "text/plain": [
              "'Shapiro, Richard </O=ENRON/OU=NA/CN=RECIPIENTS/CN=NOTESADDR/CN=6CEDF0C-82C4A03C-8625696C-7693A4>'"
            ]
          },
          "metadata": {
            "tags": []
          },
          "execution_count": 33
        }
      ]
    },
    {
      "cell_type": "markdown",
      "metadata": {
        "id": "NcmuwZjs2hVv",
        "colab_type": "text"
      },
      "source": [
        "### If you have time"
      ]
    },
    {
      "cell_type": "markdown",
      "metadata": {
        "id": "SZB81OU-2hVv",
        "colab_type": "text"
      },
      "source": [
        "Select rows 5 through 7 of the dataframe"
      ]
    },
    {
      "cell_type": "code",
      "metadata": {
        "id": "j3M5FVWW2hVw",
        "colab_type": "code",
        "colab": {
          "base_uri": "https://localhost:8080/",
          "height": 300
        },
        "outputId": "6f282a8f-c8fd-4abf-e685-04afa8bc369a"
      },
      "source": [
        "fiveThroughSeven= df.iloc[5:8]\n",
        "fiveThroughSeven"
      ],
      "execution_count": 42,
      "outputs": [
        {
          "output_type": "execute_result",
          "data": {
            "text/html": [
              "<div>\n",
              "<style scoped>\n",
              "    .dataframe tbody tr th:only-of-type {\n",
              "        vertical-align: middle;\n",
              "    }\n",
              "\n",
              "    .dataframe tbody tr th {\n",
              "        vertical-align: top;\n",
              "    }\n",
              "\n",
              "    .dataframe thead th {\n",
              "        text-align: right;\n",
              "    }\n",
              "</style>\n",
              "<table border=\"1\" class=\"dataframe\">\n",
              "  <thead>\n",
              "    <tr style=\"text-align: right;\">\n",
              "      <th></th>\n",
              "      <th>Subject</th>\n",
              "      <th>From</th>\n",
              "      <th>To</th>\n",
              "      <th>CC</th>\n",
              "      <th>BCC</th>\n",
              "      <th>Folder</th>\n",
              "      <th>Origin</th>\n",
              "      <th>FileName</th>\n",
              "      <th>content</th>\n",
              "      <th>user</th>\n",
              "      <th>labeled</th>\n",
              "      <th>dollarValueMentionedinMessage</th>\n",
              "      <th>messageLength</th>\n",
              "      <th>Date</th>\n",
              "    </tr>\n",
              "  </thead>\n",
              "  <tbody>\n",
              "    <tr>\n",
              "      <th>5</th>\n",
              "      <td>CPUC Proposed Decision Modifying Negative CTC ...</td>\n",
              "      <td>James D Steffes &lt;James D Steffes/NA/Enron@ENRON&gt;</td>\n",
              "      <td>Steven J Kean &lt;Steven J Kean/NA/Enron@Enron&gt;, ...</td>\n",
              "      <td>NaN</td>\n",
              "      <td>NaN</td>\n",
              "      <td>\\GWHALLE (Non-Privileged)\\Markets</td>\n",
              "      <td>WHALLEY-G</td>\n",
              "      <td>GWHALLE (Non-Privileged).pst</td>\n",
              "      <td>In the same Decision that the CPUC is consider...</td>\n",
              "      <td>whalley-g</td>\n",
              "      <td>False</td>\n",
              "      <td>NaN</td>\n",
              "      <td>1793</td>\n",
              "      <td>2001-06-22 01:04:00</td>\n",
              "    </tr>\n",
              "    <tr>\n",
              "      <th>6</th>\n",
              "      <td>CPUC Decision Suspending Direct Access</td>\n",
              "      <td>James D Steffes &lt;James D Steffes/NA/Enron@ENRON&gt;</td>\n",
              "      <td>David W Delainey &lt;David W Delainey/HOU/EES@EES...</td>\n",
              "      <td>Harry Kingerski &lt;Harry Kingerski/NA/Enron@Enro...</td>\n",
              "      <td>NaN</td>\n",
              "      <td>\\GWHALLE (Non-Privileged)\\Markets</td>\n",
              "      <td>WHALLEY-G</td>\n",
              "      <td>GWHALLE (Non-Privileged).pst</td>\n",
              "      <td>The following points highlight legal/regulator...</td>\n",
              "      <td>whalley-g</td>\n",
              "      <td>False</td>\n",
              "      <td>NaN</td>\n",
              "      <td>2042</td>\n",
              "      <td>2001-06-21 21:29:00</td>\n",
              "    </tr>\n",
              "    <tr>\n",
              "      <th>7</th>\n",
              "      <td>California 7/31</td>\n",
              "      <td>Johnston, Robert &lt;/O=ENRON/OU=NA/CN=RECIPIENTS...</td>\n",
              "      <td>Whalley, Greg &lt;/O=ENRON/OU=NA/CN=RECIPIENTS/CN...</td>\n",
              "      <td>Hickerson, Gary &lt;/O=ENRON/OU=NA/CN=RECIPIENTS/...</td>\n",
              "      <td>NaN</td>\n",
              "      <td>\\GWHALLE (Non-Privileged)\\Markets</td>\n",
              "      <td>WHALLEY-G</td>\n",
              "      <td>GWHALLE (Non-Privileged).pst</td>\n",
              "      <td>The train wreck known as California utility cr...</td>\n",
              "      <td>whalley-g</td>\n",
              "      <td>False</td>\n",
              "      <td>NaN</td>\n",
              "      <td>5417</td>\n",
              "      <td>2001-07-31 22:31:57</td>\n",
              "    </tr>\n",
              "  </tbody>\n",
              "</table>\n",
              "</div>"
            ],
            "text/plain": [
              "                                             Subject  ...                 Date\n",
              "5  CPUC Proposed Decision Modifying Negative CTC ...  ...  2001-06-22 01:04:00\n",
              "6             CPUC Decision Suspending Direct Access  ...  2001-06-21 21:29:00\n",
              "7                                    California 7/31  ...  2001-07-31 22:31:57\n",
              "\n",
              "[3 rows x 14 columns]"
            ]
          },
          "metadata": {
            "tags": []
          },
          "execution_count": 42
        }
      ]
    },
    {
      "cell_type": "markdown",
      "metadata": {
        "id": "CQ4TiH5b2hV0",
        "colab_type": "text"
      },
      "source": [
        "Select the to and from columns of the dataframe with a single line of code"
      ]
    },
    {
      "cell_type": "code",
      "metadata": {
        "id": "xjkTCSmR2hV1",
        "colab_type": "code",
        "colab": {
          "base_uri": "https://localhost:8080/",
          "height": 206
        },
        "outputId": "7a1e8992-e0df-4bf2-c58f-a40c63cbde4b"
      },
      "source": [
        "toAndFrom=df[['To', 'From']]\n",
        "toAndFrom.head()"
      ],
      "execution_count": 43,
      "outputs": [
        {
          "output_type": "execute_result",
          "data": {
            "text/html": [
              "<div>\n",
              "<style scoped>\n",
              "    .dataframe tbody tr th:only-of-type {\n",
              "        vertical-align: middle;\n",
              "    }\n",
              "\n",
              "    .dataframe tbody tr th {\n",
              "        vertical-align: top;\n",
              "    }\n",
              "\n",
              "    .dataframe thead th {\n",
              "        text-align: right;\n",
              "    }\n",
              "</style>\n",
              "<table border=\"1\" class=\"dataframe\">\n",
              "  <thead>\n",
              "    <tr style=\"text-align: right;\">\n",
              "      <th></th>\n",
              "      <th>To</th>\n",
              "      <th>From</th>\n",
              "    </tr>\n",
              "  </thead>\n",
              "  <tbody>\n",
              "    <tr>\n",
              "      <th>0</th>\n",
              "      <td>Kean, Steven &lt;/O=ENRON/OU=NA/CN=RECIPIENTS/CN=...</td>\n",
              "      <td>Fulton, Donna &lt;/O=ENRON/OU=NA/CN=RECIPIENTS/CN...</td>\n",
              "    </tr>\n",
              "    <tr>\n",
              "      <th>1</th>\n",
              "      <td>Greg Whalley/HOU/ECT@ENRON, Lavorato, John &lt;/O...</td>\n",
              "      <td>Delainey, David &lt;/O=ENRON/OU=NA/CN=RECIPIENTS/...</td>\n",
              "    </tr>\n",
              "    <tr>\n",
              "      <th>2</th>\n",
              "      <td>skean@enron.com, Shapiro, Richard &lt;/O=ENRON/OU...</td>\n",
              "      <td>Dasovich, Jeff &lt;/O=ENRON/OU=NA/CN=RECIPIENTS/C...</td>\n",
              "    </tr>\n",
              "    <tr>\n",
              "      <th>3</th>\n",
              "      <td>Lavorato, John &lt;/O=ENRON/OU=NA/CN=RECIPIENTS/C...</td>\n",
              "      <td>Shapiro, Richard &lt;/O=ENRON/OU=NA/CN=RECIPIENTS...</td>\n",
              "    </tr>\n",
              "    <tr>\n",
              "      <th>4</th>\n",
              "      <td>Lavorato, John &lt;/O=ENRON/OU=NA/CN=RECIPIENTS/C...</td>\n",
              "      <td>Shapiro, Richard &lt;/O=ENRON/OU=NA/CN=RECIPIENTS...</td>\n",
              "    </tr>\n",
              "  </tbody>\n",
              "</table>\n",
              "</div>"
            ],
            "text/plain": [
              "                                                  To                                               From\n",
              "0  Kean, Steven </O=ENRON/OU=NA/CN=RECIPIENTS/CN=...  Fulton, Donna </O=ENRON/OU=NA/CN=RECIPIENTS/CN...\n",
              "1  Greg Whalley/HOU/ECT@ENRON, Lavorato, John </O...  Delainey, David </O=ENRON/OU=NA/CN=RECIPIENTS/...\n",
              "2  skean@enron.com, Shapiro, Richard </O=ENRON/OU...  Dasovich, Jeff </O=ENRON/OU=NA/CN=RECIPIENTS/C...\n",
              "3  Lavorato, John </O=ENRON/OU=NA/CN=RECIPIENTS/C...  Shapiro, Richard </O=ENRON/OU=NA/CN=RECIPIENTS...\n",
              "4  Lavorato, John </O=ENRON/OU=NA/CN=RECIPIENTS/C...  Shapiro, Richard </O=ENRON/OU=NA/CN=RECIPIENTS..."
            ]
          },
          "metadata": {
            "tags": []
          },
          "execution_count": 43
        }
      ]
    },
    {
      "cell_type": "markdown",
      "metadata": {
        "id": "UeiMd8F72hV5",
        "colab_type": "text"
      },
      "source": [
        "Select the 4th and 5th columns of the dataframe"
      ]
    },
    {
      "cell_type": "code",
      "metadata": {
        "id": "Yr4fq_aU2hV6",
        "colab_type": "code",
        "colab": {
          "base_uri": "https://localhost:8080/",
          "height": 206
        },
        "outputId": "2af2cfc7-d772-4c96-d165-d83c6e38c328"
      },
      "source": [
        "colsFourAndFive=df.iloc[:,4:6]\n",
        "colsFourAndFive.head()"
      ],
      "execution_count": 44,
      "outputs": [
        {
          "output_type": "execute_result",
          "data": {
            "text/html": [
              "<div>\n",
              "<style scoped>\n",
              "    .dataframe tbody tr th:only-of-type {\n",
              "        vertical-align: middle;\n",
              "    }\n",
              "\n",
              "    .dataframe tbody tr th {\n",
              "        vertical-align: top;\n",
              "    }\n",
              "\n",
              "    .dataframe thead th {\n",
              "        text-align: right;\n",
              "    }\n",
              "</style>\n",
              "<table border=\"1\" class=\"dataframe\">\n",
              "  <thead>\n",
              "    <tr style=\"text-align: right;\">\n",
              "      <th></th>\n",
              "      <th>BCC</th>\n",
              "      <th>Folder</th>\n",
              "    </tr>\n",
              "  </thead>\n",
              "  <tbody>\n",
              "    <tr>\n",
              "      <th>0</th>\n",
              "      <td>NaN</td>\n",
              "      <td>\\GWHALLE (Non-Privileged)\\Markets</td>\n",
              "    </tr>\n",
              "    <tr>\n",
              "      <th>1</th>\n",
              "      <td>NaN</td>\n",
              "      <td>\\GWHALLE (Non-Privileged)\\Markets</td>\n",
              "    </tr>\n",
              "    <tr>\n",
              "      <th>2</th>\n",
              "      <td>NaN</td>\n",
              "      <td>\\GWHALLE (Non-Privileged)\\Markets</td>\n",
              "    </tr>\n",
              "    <tr>\n",
              "      <th>3</th>\n",
              "      <td>NaN</td>\n",
              "      <td>\\GWHALLE (Non-Privileged)\\Markets</td>\n",
              "    </tr>\n",
              "    <tr>\n",
              "      <th>4</th>\n",
              "      <td>NaN</td>\n",
              "      <td>\\GWHALLE (Non-Privileged)\\Markets</td>\n",
              "    </tr>\n",
              "  </tbody>\n",
              "</table>\n",
              "</div>"
            ],
            "text/plain": [
              "   BCC                             Folder\n",
              "0  NaN  \\GWHALLE (Non-Privileged)\\Markets\n",
              "1  NaN  \\GWHALLE (Non-Privileged)\\Markets\n",
              "2  NaN  \\GWHALLE (Non-Privileged)\\Markets\n",
              "3  NaN  \\GWHALLE (Non-Privileged)\\Markets\n",
              "4  NaN  \\GWHALLE (Non-Privileged)\\Markets"
            ]
          },
          "metadata": {
            "tags": []
          },
          "execution_count": 44
        }
      ]
    },
    {
      "cell_type": "markdown",
      "metadata": {
        "id": "wzqrrSrZ2hV-",
        "colab_type": "text"
      },
      "source": [
        "Get the average (mean, median, or mode) of the dollarValueMentionedinMessage column"
      ]
    },
    {
      "cell_type": "code",
      "metadata": {
        "id": "XzlSnTdD2hV-",
        "colab_type": "code",
        "colab": {
          "base_uri": "https://localhost:8080/",
          "height": 35
        },
        "outputId": "fe3fd433-e029-4d90-8292-6799a93c5e4d"
      },
      "source": [
        "dollarAverage=df['dollarValueMentionedinMessage'].mean()\n",
        "dollarAverage"
      ],
      "execution_count": 45,
      "outputs": [
        {
          "output_type": "execute_result",
          "data": {
            "text/plain": [
              "3048070.3057040996"
            ]
          },
          "metadata": {
            "tags": []
          },
          "execution_count": 45
        }
      ]
    }
  ]
}